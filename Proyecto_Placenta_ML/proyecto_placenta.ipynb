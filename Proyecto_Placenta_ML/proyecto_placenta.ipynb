{
 "cells": [
  {
   "cell_type": "markdown",
   "metadata": {},
   "source": [
    "# EDA Placentas"
   ]
  },
  {
   "cell_type": "code",
   "execution_count": 2,
   "metadata": {},
   "outputs": [
    {
     "name": "stdout",
     "output_type": "stream",
     "text": [
      "                     path   label\n",
      "0  V_Normales\\15396_1.jpg  normal\n",
      "1  V_Normales\\15396_2.jpg  normal\n",
      "2  V_Normales\\15396_3.jpg  normal\n",
      "3  V_Normales\\15402_1.jpg  normal\n",
      "4  V_Normales\\15402_2.jpg  normal\n",
      "label\n",
      "patologica    83\n",
      "normal        82\n",
      "Name: count, dtype: int64\n"
     ]
    }
   ],
   "source": [
    "import os\n",
    "import pandas as pd\n",
    "\n",
    "# Define las rutas a tus carpetas\n",
    "ruta_normales = \"V_Normales\"\n",
    "ruta_patologicas = \"V_Patologica\"\n",
    "\n",
    "data = []\n",
    "\n",
    "# Recorre la carpeta de placentas normales\n",
    "for archivo in os.listdir(ruta_normales):\n",
    "    if archivo.lower().endswith((\".jpg\", \".png\", \".jpeg\",\".tif\")):\n",
    "        data.append({\n",
    "            \"path\": os.path.join(ruta_normales, archivo),\n",
    "            \"label\": \"normal\"\n",
    "        })\n",
    "\n",
    "# Recorre la carpeta de placentas patológicas\n",
    "for archivo in os.listdir(ruta_patologicas):\n",
    "    if archivo.lower().endswith((\".jpg\", \".png\", \".jpeg\",\".tif\")):\n",
    "        data.append({\n",
    "            \"path\": os.path.join(ruta_patologicas, archivo),\n",
    "            \"label\": \"patologica\"\n",
    "        })\n",
    "\n",
    "df = pd.DataFrame(data)\n",
    "print(df.head())\n",
    "print(df['label'].value_counts())"
   ]
  },
  {
   "cell_type": "code",
   "execution_count": 1,
   "metadata": {},
   "outputs": [
    {
     "ename": "ModuleNotFoundError",
     "evalue": "No module named 'cv2'",
     "output_type": "error",
     "traceback": [
      "\u001b[1;31m---------------------------------------------------------------------------\u001b[0m",
      "\u001b[1;31mModuleNotFoundError\u001b[0m                       Traceback (most recent call last)",
      "Cell \u001b[1;32mIn[1], line 2\u001b[0m\n\u001b[0;32m      1\u001b[0m \u001b[38;5;28;01mimport\u001b[39;00m \u001b[38;5;21;01mmatplotlib\u001b[39;00m\u001b[38;5;21;01m.\u001b[39;00m\u001b[38;5;21;01mpyplot\u001b[39;00m \u001b[38;5;28;01mas\u001b[39;00m \u001b[38;5;21;01mplt\u001b[39;00m\n\u001b[1;32m----> 2\u001b[0m \u001b[38;5;28;01mimport\u001b[39;00m \u001b[38;5;21;01mcv2\u001b[39;00m\n\u001b[0;32m      4\u001b[0m \u001b[38;5;66;03m# Muestra 6 imágenes aleatorias\u001b[39;00m\n\u001b[0;32m      5\u001b[0m muestras \u001b[38;5;241m=\u001b[39m df\u001b[38;5;241m.\u001b[39msample(\u001b[38;5;241m6\u001b[39m, random_state\u001b[38;5;241m=\u001b[39m\u001b[38;5;241m42\u001b[39m)\n",
      "\u001b[1;31mModuleNotFoundError\u001b[0m: No module named 'cv2'"
     ]
    }
   ],
   "source": [
    "import matplotlib.pyplot as plt\n",
    "import cv2\n",
    "\n",
    "# Muestra 6 imágenes aleatorias\n",
    "muestras = df.sample(6, random_state=42)\n",
    "fig, axes = plt.subplots(2, 3, figsize=(15, 10))\n",
    "\n",
    "for ax, (_, fila) in zip(axes.flat, muestras.iterrows()):\n",
    "    # Lee la imagen usando OpenCV y conviértela a RGB\n",
    "    imagen = CV2.imread(fila['path'])\n",
    "    imagen_rgb = CV2.cvtColor(imagen, CV2.COLOR_BGR2RGB)\n",
    "    \n",
    "    ax.imshow(imagen_rgb)\n",
    "    ax.set_title(fila['label'])\n",
    "    ax.axis(\"off\")\n",
    "\n",
    "plt.show()"
   ]
  }
 ],
 "metadata": {
  "kernelspec": {
   "display_name": "Python 3",
   "language": "python",
   "name": "python3"
  },
  "language_info": {
   "codemirror_mode": {
    "name": "ipython",
    "version": 3
   },
   "file_extension": ".py",
   "mimetype": "text/x-python",
   "name": "python",
   "nbconvert_exporter": "python",
   "pygments_lexer": "ipython3",
   "version": "3.11.9"
  }
 },
 "nbformat": 4,
 "nbformat_minor": 2
}
