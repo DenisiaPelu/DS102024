{
 "cells": [
  {
   "cell_type": "markdown",
   "metadata": {},
   "source": [
    "# Análisis de datos sobre Mangas y Ánime\n",
    "\n",
    "![man_1](man_1.jpg)"
   ]
  },
  {
   "cell_type": "markdown",
   "metadata": {},
   "source": [
    "- Tenemos dos conjuntos de datos: \n",
    "    1. Conjunto de datos dobre Mangas.\n",
    "    2. Conjunto de datos dobre Ánime."
   ]
  },
  {
   "cell_type": "markdown",
   "metadata": {},
   "source": [
    "- Cada conjunto tiene 8 columnas.\n",
    "\n",
    "- Conjunto de datos dobre Ánime:\n",
    "    1. <u>Title</u> : Título de la manga.\n",
    "    2. <u>Rank</u> : Rango de popularidad.\n",
    "    3. <u>Type</u> : Categoría del ánime ('TV', 'Movie', 'Special', 'ONA', 'OVA', 'Unknown').\n",
    "    4. <u>Episodes</u> : Número de episodios.\n",
    "    5. <u>Aired</u> : Fecha en el que se estrenó el anime y su finalización, si la hay.\n",
    "    6. <u>Members</u> : Número de miembros.\n",
    "    7. <u>page_url</u> : URL de la página del anime en MyAnimeList.\n",
    "    8. <u>image_url</u> : URL de la imagen del anime en MyAnimeList.\n",
    "    9. <u>Score</u> : Puntaje del anime en MyAnimeList, que va desde 0 a 10."
   ]
  },
  {
   "cell_type": "markdown",
   "metadata": {},
   "source": [
    "## Preparación y Carga de datos"
   ]
  },
  {
   "cell_type": "markdown",
   "metadata": {},
   "source": [
    "### Librerías"
   ]
  },
  {
   "cell_type": "code",
   "execution_count": 3,
   "metadata": {},
   "outputs": [],
   "source": [
    "import numpy as np\n",
    "import pandas as pd\n",
    "import matplotlib.pyplot as plt\n",
    "import seaborn as sns"
   ]
  },
  {
   "cell_type": "markdown",
   "metadata": {},
   "source": [
    "### Carga de datos"
   ]
  },
  {
   "cell_type": "code",
   "execution_count": 4,
   "metadata": {},
   "outputs": [
    {
     "data": {
      "text/html": [
       "<div>\n",
       "<style scoped>\n",
       "    .dataframe tbody tr th:only-of-type {\n",
       "        vertical-align: middle;\n",
       "    }\n",
       "\n",
       "    .dataframe tbody tr th {\n",
       "        vertical-align: top;\n",
       "    }\n",
       "\n",
       "    .dataframe thead th {\n",
       "        text-align: right;\n",
       "    }\n",
       "</style>\n",
       "<table border=\"1\" class=\"dataframe\">\n",
       "  <thead>\n",
       "    <tr style=\"text-align: right;\">\n",
       "      <th></th>\n",
       "      <th>Unnamed: 0</th>\n",
       "      <th>Title</th>\n",
       "      <th>Rank</th>\n",
       "      <th>Type</th>\n",
       "      <th>Episodes</th>\n",
       "      <th>Aired</th>\n",
       "      <th>Members</th>\n",
       "      <th>page_url</th>\n",
       "      <th>image_url</th>\n",
       "      <th>Score</th>\n",
       "    </tr>\n",
       "  </thead>\n",
       "  <tbody>\n",
       "    <tr>\n",
       "      <th>0</th>\n",
       "      <td>0</td>\n",
       "      <td>Net-juu no Susume</td>\n",
       "      <td>1568</td>\n",
       "      <td>TV</td>\n",
       "      <td>10</td>\n",
       "      <td>Oct 2017 - Dec 2017</td>\n",
       "      <td>450968</td>\n",
       "      <td>https://myanimelist.net/anime/36038/Net-juu_no...</td>\n",
       "      <td>https://cdn.myanimelist.net/r/100x140/images/a...</td>\n",
       "      <td>7.55</td>\n",
       "    </tr>\n",
       "    <tr>\n",
       "      <th>1</th>\n",
       "      <td>1</td>\n",
       "      <td>Neon Genesis Evangelion: The End of Evangelion</td>\n",
       "      <td>99</td>\n",
       "      <td>Movie</td>\n",
       "      <td>1</td>\n",
       "      <td>Jul 1997 - Jul 1997</td>\n",
       "      <td>883576</td>\n",
       "      <td>https://myanimelist.net/anime/32/Neon_Genesis_...</td>\n",
       "      <td>https://cdn.myanimelist.net/r/100x140/images/a...</td>\n",
       "      <td>8.55</td>\n",
       "    </tr>\n",
       "  </tbody>\n",
       "</table>\n",
       "</div>"
      ],
      "text/plain": [
       "   Unnamed: 0                                           Title  Rank   Type  \\\n",
       "0           0                               Net-juu no Susume  1568     TV   \n",
       "1           1  Neon Genesis Evangelion: The End of Evangelion    99  Movie   \n",
       "\n",
       "  Episodes                Aired  Members  \\\n",
       "0       10  Oct 2017 - Dec 2017   450968   \n",
       "1        1  Jul 1997 - Jul 1997   883576   \n",
       "\n",
       "                                            page_url  \\\n",
       "0  https://myanimelist.net/anime/36038/Net-juu_no...   \n",
       "1  https://myanimelist.net/anime/32/Neon_Genesis_...   \n",
       "\n",
       "                                           image_url  Score  \n",
       "0  https://cdn.myanimelist.net/r/100x140/images/a...   7.55  \n",
       "1  https://cdn.myanimelist.net/r/100x140/images/a...   8.55  "
      ]
     },
     "execution_count": 4,
     "metadata": {},
     "output_type": "execute_result"
    }
   ],
   "source": [
    "anime=pd.read_csv(\"MAL-anime.csv\")\n",
    "anime.head(2)"
   ]
  },
  {
   "cell_type": "markdown",
   "metadata": {},
   "source": [
    "# Verificación inicial"
   ]
  },
  {
   "cell_type": "code",
   "execution_count": 5,
   "metadata": {},
   "outputs": [
    {
     "name": "stdout",
     "output_type": "stream",
     "text": [
      "<class 'pandas.core.frame.DataFrame'>\n",
      "RangeIndex: 12774 entries, 0 to 12773\n",
      "Data columns (total 10 columns):\n",
      " #   Column      Non-Null Count  Dtype  \n",
      "---  ------      --------------  -----  \n",
      " 0   Unnamed: 0  12774 non-null  int64  \n",
      " 1   Title       12774 non-null  object \n",
      " 2   Rank        12774 non-null  int64  \n",
      " 3   Type        12774 non-null  object \n",
      " 4   Episodes    12774 non-null  object \n",
      " 5   Aired       12774 non-null  object \n",
      " 6   Members     12774 non-null  int64  \n",
      " 7   page_url    12774 non-null  object \n",
      " 8   image_url   12774 non-null  object \n",
      " 9   Score       12774 non-null  float64\n",
      "dtypes: float64(1), int64(3), object(6)\n",
      "memory usage: 998.1+ KB\n"
     ]
    }
   ],
   "source": [
    "anime.info()"
   ]
  },
  {
   "cell_type": "code",
   "execution_count": 6,
   "metadata": {},
   "outputs": [
    {
     "data": {
      "text/plain": [
       "<bound method DataFrame.isnull of        Unnamed: 0                                              Title   Rank  \\\n",
       "0               0                                  Net-juu no Susume   1568   \n",
       "1               1     Neon Genesis Evangelion: The End of Evangelion     99   \n",
       "2               2                                            Templex  11445   \n",
       "3               3                                           s.CRY.ed   2248   \n",
       "4               4                     Toaru Majutsu no Index-tan III   6679   \n",
       "...           ...                                                ...    ...   \n",
       "12769       12769                                   Neko no Ongaeshi   1090   \n",
       "12770       12770                                      Kowasugimasu.  12283   \n",
       "12771       12771                                        Bloody Date  12661   \n",
       "12772       12772  Deliver Police: Nishitokyo-shi Deliver Keisats...  11318   \n",
       "12773       12773                 City Hunter: Goodbye My Sweetheart   1750   \n",
       "\n",
       "          Type Episodes                Aired  Members  \\\n",
       "0           TV       10  Oct 2017 - Dec 2017   450968   \n",
       "1        Movie        1  Jul 1997 - Jul 1997   883576   \n",
       "2        Movie        1          2015 - 2015      538   \n",
       "3           TV       26  Jul 2001 - Dec 2001    81283   \n",
       "4      Special        2  Dec 2018 - Apr 2019    11370   \n",
       "...        ...      ...                  ...      ...   \n",
       "12769    Movie        1  Jul 2002 - Jul 2002   259386   \n",
       "12770      ONA        1  Mar 2018 - Mar 2018      352   \n",
       "12771      ONA        1  Nov 2006 - Nov 2006     4112   \n",
       "12772      ONA        1  Mar 2021 - Mar 2021      485   \n",
       "12773  Special        1  Apr 1997 - Apr 1997     7274   \n",
       "\n",
       "                                                page_url  \\\n",
       "0      https://myanimelist.net/anime/36038/Net-juu_no...   \n",
       "1      https://myanimelist.net/anime/32/Neon_Genesis_...   \n",
       "2            https://myanimelist.net/anime/40721/Templex   \n",
       "3               https://myanimelist.net/anime/168/sCRYed   \n",
       "4      https://myanimelist.net/anime/39094/Toaru_Maju...   \n",
       "...                                                  ...   \n",
       "12769  https://myanimelist.net/anime/597/Neko_no_Onga...   \n",
       "12770   https://myanimelist.net/anime/42014/Kowasugimasu   \n",
       "12771    https://myanimelist.net/anime/11691/Bloody_Date   \n",
       "12772  https://myanimelist.net/anime/48575/Deliver_Po...   \n",
       "12773  https://myanimelist.net/anime/1478/City_Hunter...   \n",
       "\n",
       "                                               image_url  Score  \n",
       "0      https://cdn.myanimelist.net/r/100x140/images/a...   7.55  \n",
       "1      https://cdn.myanimelist.net/r/100x140/images/a...   8.55  \n",
       "2      https://cdn.myanimelist.net/r/100x140/images/a...   5.29  \n",
       "3      https://cdn.myanimelist.net/r/100x140/images/a...   7.36  \n",
       "4      https://cdn.myanimelist.net/r/100x140/images/a...   6.44  \n",
       "...                                                  ...    ...  \n",
       "12769  https://cdn.myanimelist.net/r/100x140/images/a...   7.72  \n",
       "12770  https://cdn.myanimelist.net/r/100x140/images/a...   4.80  \n",
       "12771  https://cdn.myanimelist.net/r/100x140/images/a...   4.21  \n",
       "12772  https://cdn.myanimelist.net/r/100x140/images/a...   5.34  \n",
       "12773  https://cdn.myanimelist.net/r/100x140/images/a...   7.49  \n",
       "\n",
       "[12774 rows x 10 columns]>"
      ]
     },
     "execution_count": 6,
     "metadata": {},
     "output_type": "execute_result"
    }
   ],
   "source": [
    "anime.isnull"
   ]
  },
  {
   "cell_type": "code",
   "execution_count": 7,
   "metadata": {},
   "outputs": [
    {
     "ename": "AttributeError",
     "evalue": "'DataFrame' object has no attribute 'duplicate'",
     "output_type": "error",
     "traceback": [
      "\u001b[1;31m---------------------------------------------------------------------------\u001b[0m",
      "\u001b[1;31mAttributeError\u001b[0m                            Traceback (most recent call last)",
      "\u001b[1;32m~\\AppData\\Local\\Temp\\ipykernel_34016\\411704713.py\u001b[0m in \u001b[0;36m?\u001b[1;34m()\u001b[0m\n\u001b[1;32m----> 1\u001b[1;33m \u001b[0manime\u001b[0m\u001b[1;33m[\u001b[0m\u001b[0manime\u001b[0m\u001b[1;33m.\u001b[0m\u001b[0mduplicate\u001b[0m\u001b[1;33m(\u001b[0m\u001b[0mKeep\u001b[0m\u001b[1;33m=\u001b[0m\u001b[1;32mFalse\u001b[0m\u001b[1;33m)\u001b[0m\u001b[1;33m]\u001b[0m\u001b[1;33m\u001b[0m\u001b[1;33m\u001b[0m\u001b[0m\n\u001b[0m",
      "\u001b[1;32mc:\\Users\\denis\\AppData\\Local\\pypoetry\\Cache\\virtualenvs\\bootcamp-ds-Hu7-MTgx-py3.11\\Lib\\site-packages\\pandas\\core\\generic.py\u001b[0m in \u001b[0;36m?\u001b[1;34m(self, name)\u001b[0m\n\u001b[0;32m   6295\u001b[0m             \u001b[1;32mand\u001b[0m \u001b[0mname\u001b[0m \u001b[1;32mnot\u001b[0m \u001b[1;32min\u001b[0m \u001b[0mself\u001b[0m\u001b[1;33m.\u001b[0m\u001b[0m_accessors\u001b[0m\u001b[1;33m\u001b[0m\u001b[1;33m\u001b[0m\u001b[0m\n\u001b[0;32m   6296\u001b[0m             \u001b[1;32mand\u001b[0m \u001b[0mself\u001b[0m\u001b[1;33m.\u001b[0m\u001b[0m_info_axis\u001b[0m\u001b[1;33m.\u001b[0m\u001b[0m_can_hold_identifiers_and_holds_name\u001b[0m\u001b[1;33m(\u001b[0m\u001b[0mname\u001b[0m\u001b[1;33m)\u001b[0m\u001b[1;33m\u001b[0m\u001b[1;33m\u001b[0m\u001b[0m\n\u001b[0;32m   6297\u001b[0m         ):\n\u001b[0;32m   6298\u001b[0m             \u001b[1;32mreturn\u001b[0m \u001b[0mself\u001b[0m\u001b[1;33m[\u001b[0m\u001b[0mname\u001b[0m\u001b[1;33m]\u001b[0m\u001b[1;33m\u001b[0m\u001b[1;33m\u001b[0m\u001b[0m\n\u001b[1;32m-> 6299\u001b[1;33m         \u001b[1;32mreturn\u001b[0m \u001b[0mobject\u001b[0m\u001b[1;33m.\u001b[0m\u001b[0m__getattribute__\u001b[0m\u001b[1;33m(\u001b[0m\u001b[0mself\u001b[0m\u001b[1;33m,\u001b[0m \u001b[0mname\u001b[0m\u001b[1;33m)\u001b[0m\u001b[1;33m\u001b[0m\u001b[1;33m\u001b[0m\u001b[0m\n\u001b[0m",
      "\u001b[1;31mAttributeError\u001b[0m: 'DataFrame' object has no attribute 'duplicate'"
     ]
    }
   ],
   "source": [
    "anime[anime.duplicate(Keep=False)]"
   ]
  },
  {
   "cell_type": "code",
   "execution_count": 14,
   "metadata": {},
   "outputs": [
    {
     "data": {
      "text/html": [
       "<div>\n",
       "<style scoped>\n",
       "    .dataframe tbody tr th:only-of-type {\n",
       "        vertical-align: middle;\n",
       "    }\n",
       "\n",
       "    .dataframe tbody tr th {\n",
       "        vertical-align: top;\n",
       "    }\n",
       "\n",
       "    .dataframe thead th {\n",
       "        text-align: right;\n",
       "    }\n",
       "</style>\n",
       "<table border=\"1\" class=\"dataframe\">\n",
       "  <thead>\n",
       "    <tr style=\"text-align: right;\">\n",
       "      <th></th>\n",
       "      <th>Unnamed: 0</th>\n",
       "      <th>Rank</th>\n",
       "      <th>Members</th>\n",
       "      <th>Score</th>\n",
       "    </tr>\n",
       "  </thead>\n",
       "  <tbody>\n",
       "    <tr>\n",
       "      <th>count</th>\n",
       "      <td>12774.000000</td>\n",
       "      <td>12774.000000</td>\n",
       "      <td>1.277400e+04</td>\n",
       "      <td>12774.000000</td>\n",
       "    </tr>\n",
       "    <tr>\n",
       "      <th>mean</th>\n",
       "      <td>6386.500000</td>\n",
       "      <td>6397.824409</td>\n",
       "      <td>7.080744e+04</td>\n",
       "      <td>6.475332</td>\n",
       "    </tr>\n",
       "    <tr>\n",
       "      <th>std</th>\n",
       "      <td>3687.680504</td>\n",
       "      <td>3690.509535</td>\n",
       "      <td>2.140947e+05</td>\n",
       "      <td>0.942195</td>\n",
       "    </tr>\n",
       "    <tr>\n",
       "      <th>min</th>\n",
       "      <td>0.000000</td>\n",
       "      <td>1.000000</td>\n",
       "      <td>1.810000e+02</td>\n",
       "      <td>1.850000</td>\n",
       "    </tr>\n",
       "    <tr>\n",
       "      <th>25%</th>\n",
       "      <td>3193.250000</td>\n",
       "      <td>3204.250000</td>\n",
       "      <td>1.455000e+03</td>\n",
       "      <td>5.840000</td>\n",
       "    </tr>\n",
       "    <tr>\n",
       "      <th>50%</th>\n",
       "      <td>6386.500000</td>\n",
       "      <td>6399.500000</td>\n",
       "      <td>6.566500e+03</td>\n",
       "      <td>6.500000</td>\n",
       "    </tr>\n",
       "    <tr>\n",
       "      <th>75%</th>\n",
       "      <td>9579.750000</td>\n",
       "      <td>9592.750000</td>\n",
       "      <td>4.066725e+04</td>\n",
       "      <td>7.170000</td>\n",
       "    </tr>\n",
       "    <tr>\n",
       "      <th>max</th>\n",
       "      <td>12773.000000</td>\n",
       "      <td>12788.000000</td>\n",
       "      <td>3.759013e+06</td>\n",
       "      <td>9.100000</td>\n",
       "    </tr>\n",
       "  </tbody>\n",
       "</table>\n",
       "</div>"
      ],
      "text/plain": [
       "         Unnamed: 0          Rank       Members         Score\n",
       "count  12774.000000  12774.000000  1.277400e+04  12774.000000\n",
       "mean    6386.500000   6397.824409  7.080744e+04      6.475332\n",
       "std     3687.680504   3690.509535  2.140947e+05      0.942195\n",
       "min        0.000000      1.000000  1.810000e+02      1.850000\n",
       "25%     3193.250000   3204.250000  1.455000e+03      5.840000\n",
       "50%     6386.500000   6399.500000  6.566500e+03      6.500000\n",
       "75%     9579.750000   9592.750000  4.066725e+04      7.170000\n",
       "max    12773.000000  12788.000000  3.759013e+06      9.100000"
      ]
     },
     "execution_count": 14,
     "metadata": {},
     "output_type": "execute_result"
    }
   ],
   "source": [
    "anime.describe()"
   ]
  },
  {
   "cell_type": "code",
   "execution_count": 11,
   "metadata": {},
   "outputs": [
    {
     "data": {
      "text/plain": [
       "array(['TV', 'Movie', 'Special', 'ONA', 'OVA', 'Unknown'], dtype=object)"
      ]
     },
     "execution_count": 11,
     "metadata": {},
     "output_type": "execute_result"
    }
   ],
   "source": [
    "anime['Type'].unique()"
   ]
  },
  {
   "cell_type": "code",
   "execution_count": 4,
   "metadata": {},
   "outputs": [
    {
     "data": {
      "text/html": [
       "<div>\n",
       "<style scoped>\n",
       "    .dataframe tbody tr th:only-of-type {\n",
       "        vertical-align: middle;\n",
       "    }\n",
       "\n",
       "    .dataframe tbody tr th {\n",
       "        vertical-align: top;\n",
       "    }\n",
       "\n",
       "    .dataframe thead th {\n",
       "        text-align: right;\n",
       "    }\n",
       "</style>\n",
       "<table border=\"1\" class=\"dataframe\">\n",
       "  <thead>\n",
       "    <tr style=\"text-align: right;\">\n",
       "      <th></th>\n",
       "      <th>Unnamed: 0</th>\n",
       "      <th>Title</th>\n",
       "      <th>Rank</th>\n",
       "      <th>Type</th>\n",
       "      <th>Volumes</th>\n",
       "      <th>Published</th>\n",
       "      <th>Members</th>\n",
       "      <th>page_url</th>\n",
       "      <th>image_url</th>\n",
       "      <th>Score</th>\n",
       "    </tr>\n",
       "  </thead>\n",
       "  <tbody>\n",
       "    <tr>\n",
       "      <th>0</th>\n",
       "      <td>0</td>\n",
       "      <td>City Hunter</td>\n",
       "      <td>460</td>\n",
       "      <td>Manga</td>\n",
       "      <td>35</td>\n",
       "      <td>Feb 1985 - Nov 1991</td>\n",
       "      <td>14690</td>\n",
       "      <td>https://myanimelist.net/manga/792/City_Hunter</td>\n",
       "      <td>https://cdn.myanimelist.net/r/100x140/images/m...</td>\n",
       "      <td>8.16</td>\n",
       "    </tr>\n",
       "    <tr>\n",
       "      <th>1</th>\n",
       "      <td>1</td>\n",
       "      <td>Keijo!!!!!!!!</td>\n",
       "      <td>4532</td>\n",
       "      <td>Manga</td>\n",
       "      <td>18</td>\n",
       "      <td>Jul 2013 - Apr 2017</td>\n",
       "      <td>12689</td>\n",
       "      <td>https://myanimelist.net/manga/56505/Keijo</td>\n",
       "      <td>https://cdn.myanimelist.net/r/100x140/images/m...</td>\n",
       "      <td>7.31</td>\n",
       "    </tr>\n",
       "    <tr>\n",
       "      <th>2</th>\n",
       "      <td>2</td>\n",
       "      <td>Rain</td>\n",
       "      <td>1808</td>\n",
       "      <td>Manga</td>\n",
       "      <td>?</td>\n",
       "      <td>Nov 2008 -</td>\n",
       "      <td>12021</td>\n",
       "      <td>https://myanimelist.net/manga/17237/Rain</td>\n",
       "      <td>https://cdn.myanimelist.net/r/100x140/images/m...</td>\n",
       "      <td>7.67</td>\n",
       "    </tr>\n",
       "    <tr>\n",
       "      <th>3</th>\n",
       "      <td>3</td>\n",
       "      <td>Hidari no Futari</td>\n",
       "      <td>17377</td>\n",
       "      <td>One-shot</td>\n",
       "      <td>?</td>\n",
       "      <td>2011 - 2011</td>\n",
       "      <td>1010</td>\n",
       "      <td>https://myanimelist.net/manga/26610/Hidari_no_...</td>\n",
       "      <td>https://cdn.myanimelist.net/r/100x140/images/m...</td>\n",
       "      <td>5.95</td>\n",
       "    </tr>\n",
       "    <tr>\n",
       "      <th>4</th>\n",
       "      <td>4</td>\n",
       "      <td>Odd Girl Out</td>\n",
       "      <td>953</td>\n",
       "      <td>Manhwa</td>\n",
       "      <td>?</td>\n",
       "      <td>May 2015 -</td>\n",
       "      <td>4968</td>\n",
       "      <td>https://myanimelist.net/manga/119521/Odd_Girl_Out</td>\n",
       "      <td>https://cdn.myanimelist.net/r/100x140/images/m...</td>\n",
       "      <td>7.90</td>\n",
       "    </tr>\n",
       "    <tr>\n",
       "      <th>...</th>\n",
       "      <td>...</td>\n",
       "      <td>...</td>\n",
       "      <td>...</td>\n",
       "      <td>...</td>\n",
       "      <td>...</td>\n",
       "      <td>...</td>\n",
       "      <td>...</td>\n",
       "      <td>...</td>\n",
       "      <td>...</td>\n",
       "      <td>...</td>\n",
       "    </tr>\n",
       "    <tr>\n",
       "      <th>17806</th>\n",
       "      <td>17806</td>\n",
       "      <td>Akuyaku Reijou desu ga Kouryaku Taishou no You...</td>\n",
       "      <td>10635</td>\n",
       "      <td>Manga</td>\n",
       "      <td>?</td>\n",
       "      <td>Dec 2020 -</td>\n",
       "      <td>1142</td>\n",
       "      <td>https://myanimelist.net/manga/132451/Akuyaku_R...</td>\n",
       "      <td>https://cdn.myanimelist.net/r/100x140/images/m...</td>\n",
       "      <td>6.85</td>\n",
       "    </tr>\n",
       "    <tr>\n",
       "      <th>17807</th>\n",
       "      <td>17807</td>\n",
       "      <td>Hakuji</td>\n",
       "      <td>5720</td>\n",
       "      <td>Manga</td>\n",
       "      <td>2</td>\n",
       "      <td>May 2008 - Apr 2010</td>\n",
       "      <td>6103</td>\n",
       "      <td>https://myanimelist.net/manga/10141/Hakuji</td>\n",
       "      <td>https://cdn.myanimelist.net/r/100x140/images/m...</td>\n",
       "      <td>7.21</td>\n",
       "    </tr>\n",
       "    <tr>\n",
       "      <th>17808</th>\n",
       "      <td>17808</td>\n",
       "      <td>Maouritsu Chuu-Boss Yousei Academia</td>\n",
       "      <td>15889</td>\n",
       "      <td>Manga</td>\n",
       "      <td>3</td>\n",
       "      <td>Sep 2017 - Mar 2019</td>\n",
       "      <td>696</td>\n",
       "      <td>https://myanimelist.net/manga/112973/Maouritsu...</td>\n",
       "      <td>https://cdn.myanimelist.net/r/100x140/images/m...</td>\n",
       "      <td>6.38</td>\n",
       "    </tr>\n",
       "    <tr>\n",
       "      <th>17809</th>\n",
       "      <td>17809</td>\n",
       "      <td>Arakure Ojousama wa Monmon Shiteiru</td>\n",
       "      <td>7569</td>\n",
       "      <td>Manga</td>\n",
       "      <td>?</td>\n",
       "      <td>Nov 2018 -</td>\n",
       "      <td>11257</td>\n",
       "      <td>https://myanimelist.net/manga/117227/Arakure_O...</td>\n",
       "      <td>https://cdn.myanimelist.net/r/100x140/images/m...</td>\n",
       "      <td>7.07</td>\n",
       "    </tr>\n",
       "    <tr>\n",
       "      <th>17810</th>\n",
       "      <td>17810</td>\n",
       "      <td>Tensei Ouji wa Daraketai</td>\n",
       "      <td>12899</td>\n",
       "      <td>Manga</td>\n",
       "      <td>3</td>\n",
       "      <td>Jan 2018 - Mar 2020</td>\n",
       "      <td>6203</td>\n",
       "      <td>https://myanimelist.net/manga/112534/Tensei_Ou...</td>\n",
       "      <td>https://cdn.myanimelist.net/r/100x140/images/m...</td>\n",
       "      <td>6.68</td>\n",
       "    </tr>\n",
       "  </tbody>\n",
       "</table>\n",
       "<p>17811 rows × 10 columns</p>\n",
       "</div>"
      ],
      "text/plain": [
       "       Unnamed: 0                                              Title   Rank  \\\n",
       "0               0                                        City Hunter    460   \n",
       "1               1                                      Keijo!!!!!!!!   4532   \n",
       "2               2                                               Rain   1808   \n",
       "3               3                                   Hidari no Futari  17377   \n",
       "4               4                                       Odd Girl Out    953   \n",
       "...           ...                                                ...    ...   \n",
       "17806       17806  Akuyaku Reijou desu ga Kouryaku Taishou no You...  10635   \n",
       "17807       17807                                             Hakuji   5720   \n",
       "17808       17808                Maouritsu Chuu-Boss Yousei Academia  15889   \n",
       "17809       17809                Arakure Ojousama wa Monmon Shiteiru   7569   \n",
       "17810       17810                           Tensei Ouji wa Daraketai  12899   \n",
       "\n",
       "           Type Volumes            Published  Members  \\\n",
       "0         Manga      35  Feb 1985 - Nov 1991    14690   \n",
       "1         Manga      18  Jul 2013 - Apr 2017    12689   \n",
       "2         Manga       ?           Nov 2008 -    12021   \n",
       "3      One-shot       ?          2011 - 2011     1010   \n",
       "4        Manhwa       ?           May 2015 -     4968   \n",
       "...         ...     ...                  ...      ...   \n",
       "17806     Manga       ?           Dec 2020 -     1142   \n",
       "17807     Manga       2  May 2008 - Apr 2010     6103   \n",
       "17808     Manga       3  Sep 2017 - Mar 2019      696   \n",
       "17809     Manga       ?           Nov 2018 -    11257   \n",
       "17810     Manga       3  Jan 2018 - Mar 2020     6203   \n",
       "\n",
       "                                                page_url  \\\n",
       "0          https://myanimelist.net/manga/792/City_Hunter   \n",
       "1              https://myanimelist.net/manga/56505/Keijo   \n",
       "2               https://myanimelist.net/manga/17237/Rain   \n",
       "3      https://myanimelist.net/manga/26610/Hidari_no_...   \n",
       "4      https://myanimelist.net/manga/119521/Odd_Girl_Out   \n",
       "...                                                  ...   \n",
       "17806  https://myanimelist.net/manga/132451/Akuyaku_R...   \n",
       "17807         https://myanimelist.net/manga/10141/Hakuji   \n",
       "17808  https://myanimelist.net/manga/112973/Maouritsu...   \n",
       "17809  https://myanimelist.net/manga/117227/Arakure_O...   \n",
       "17810  https://myanimelist.net/manga/112534/Tensei_Ou...   \n",
       "\n",
       "                                               image_url  Score  \n",
       "0      https://cdn.myanimelist.net/r/100x140/images/m...   8.16  \n",
       "1      https://cdn.myanimelist.net/r/100x140/images/m...   7.31  \n",
       "2      https://cdn.myanimelist.net/r/100x140/images/m...   7.67  \n",
       "3      https://cdn.myanimelist.net/r/100x140/images/m...   5.95  \n",
       "4      https://cdn.myanimelist.net/r/100x140/images/m...   7.90  \n",
       "...                                                  ...    ...  \n",
       "17806  https://cdn.myanimelist.net/r/100x140/images/m...   6.85  \n",
       "17807  https://cdn.myanimelist.net/r/100x140/images/m...   7.21  \n",
       "17808  https://cdn.myanimelist.net/r/100x140/images/m...   6.38  \n",
       "17809  https://cdn.myanimelist.net/r/100x140/images/m...   7.07  \n",
       "17810  https://cdn.myanimelist.net/r/100x140/images/m...   6.68  \n",
       "\n",
       "[17811 rows x 10 columns]"
      ]
     },
     "execution_count": 4,
     "metadata": {},
     "output_type": "execute_result"
    }
   ],
   "source": [
    "manga= pd.read_csv(r'C:\\Users\\denis\\Desktop\\Curso\\Juan-Temario\\DS102024_Nuevo\\EDA_Manga\\MAL-manga.csv')\n",
    "manga\n"
   ]
  },
  {
   "cell_type": "code",
   "execution_count": 11,
   "metadata": {},
   "outputs": [
    {
     "data": {
      "text/plain": [
       "'Berserk'"
      ]
     },
     "execution_count": 11,
     "metadata": {},
     "output_type": "execute_result"
    }
   ],
   "source": [
    "# Encuentra el valor máximo en la columna 'Members'\n",
    "max_members = manga['Members'].max()\n",
    "\n",
    "# Filtra el DataFrame para encontrar la fila correspondiente\n",
    "result = manga[manga['Members'] == max_members]\n",
    "\n",
    "# Obtén el título correspondiente\n",
    "title = result['Title'].iloc[0] \n",
    "title"
   ]
  },
  {
   "cell_type": "code",
   "execution_count": 14,
   "metadata": {},
   "outputs": [
    {
     "data": {
      "text/plain": [
       "'Shingeki no Kyojin'"
      ]
     },
     "execution_count": 14,
     "metadata": {},
     "output_type": "execute_result"
    }
   ],
   "source": [
    "# Encuentra el valor máximo en la columna 'Members'\n",
    "max_animes = anime['Members'].max()\n",
    "max_animes\n",
    "\n",
    "# Filtra el DataFrame para encontrar la fila correspondiente\n",
    "result = anime[anime['Members'] == max_animes]\n",
    "\n",
    "# Obtén el título correspondiente\n",
    "title = result['Title'].iloc[0] \n",
    "title"
   ]
  },
  {
   "cell_type": "code",
   "execution_count": 15,
   "metadata": {},
   "outputs": [
    {
     "data": {
      "text/plain": [
       "np.int64(3759013)"
      ]
     },
     "execution_count": 15,
     "metadata": {},
     "output_type": "execute_result"
    }
   ],
   "source": [
    "max_animes"
   ]
  },
  {
   "cell_type": "code",
   "execution_count": null,
   "metadata": {},
   "outputs": [
    {
     "data": {
      "text/plain": [
       "<bound method NDFrame.head of        Unnamed: 0                                              Title   Rank  \\\n",
       "0               0                                        City Hunter    460   \n",
       "1               1                                      Keijo!!!!!!!!   4532   \n",
       "2               2                                               Rain   1808   \n",
       "3               3                                   Hidari no Futari  17377   \n",
       "4               4                                       Odd Girl Out    953   \n",
       "...           ...                                                ...    ...   \n",
       "17806       17806  Akuyaku Reijou desu ga Kouryaku Taishou no You...  10635   \n",
       "17807       17807                                             Hakuji   5720   \n",
       "17808       17808                Maouritsu Chuu-Boss Yousei Academia  15889   \n",
       "17809       17809                Arakure Ojousama wa Monmon Shiteiru   7569   \n",
       "17810       17810                           Tensei Ouji wa Daraketai  12899   \n",
       "\n",
       "           Type Volumes            Published  Members  \\\n",
       "0         Manga      35  Feb 1985 - Nov 1991    14690   \n",
       "1         Manga      18  Jul 2013 - Apr 2017    12689   \n",
       "2         Manga       ?           Nov 2008 -    12021   \n",
       "3      One-shot       ?          2011 - 2011     1010   \n",
       "4        Manhwa       ?           May 2015 -     4968   \n",
       "...         ...     ...                  ...      ...   \n",
       "17806     Manga       ?           Dec 2020 -     1142   \n",
       "17807     Manga       2  May 2008 - Apr 2010     6103   \n",
       "17808     Manga       3  Sep 2017 - Mar 2019      696   \n",
       "17809     Manga       ?           Nov 2018 -    11257   \n",
       "17810     Manga       3  Jan 2018 - Mar 2020     6203   \n",
       "\n",
       "                                                page_url  \\\n",
       "0          https://myanimelist.net/manga/792/City_Hunter   \n",
       "1              https://myanimelist.net/manga/56505/Keijo   \n",
       "2               https://myanimelist.net/manga/17237/Rain   \n",
       "3      https://myanimelist.net/manga/26610/Hidari_no_...   \n",
       "4      https://myanimelist.net/manga/119521/Odd_Girl_Out   \n",
       "...                                                  ...   \n",
       "17806  https://myanimelist.net/manga/132451/Akuyaku_R...   \n",
       "17807         https://myanimelist.net/manga/10141/Hakuji   \n",
       "17808  https://myanimelist.net/manga/112973/Maouritsu...   \n",
       "17809  https://myanimelist.net/manga/117227/Arakure_O...   \n",
       "17810  https://myanimelist.net/manga/112534/Tensei_Ou...   \n",
       "\n",
       "                                               image_url  Score  \n",
       "0      https://cdn.myanimelist.net/r/100x140/images/m...   8.16  \n",
       "1      https://cdn.myanimelist.net/r/100x140/images/m...   7.31  \n",
       "2      https://cdn.myanimelist.net/r/100x140/images/m...   7.67  \n",
       "3      https://cdn.myanimelist.net/r/100x140/images/m...   5.95  \n",
       "4      https://cdn.myanimelist.net/r/100x140/images/m...   7.90  \n",
       "...                                                  ...    ...  \n",
       "17806  https://cdn.myanimelist.net/r/100x140/images/m...   6.85  \n",
       "17807  https://cdn.myanimelist.net/r/100x140/images/m...   7.21  \n",
       "17808  https://cdn.myanimelist.net/r/100x140/images/m...   6.38  \n",
       "17809  https://cdn.myanimelist.net/r/100x140/images/m...   7.07  \n",
       "17810  https://cdn.myanimelist.net/r/100x140/images/m...   6.68  \n",
       "\n",
       "[17811 rows x 10 columns]>"
      ]
     },
     "execution_count": 4,
     "metadata": {},
     "output_type": "execute_result"
    }
   ],
   "source": [
    "manga.head"
   ]
  },
  {
   "cell_type": "markdown",
   "metadata": {},
   "source": [
    "# Anime"
   ]
  },
  {
   "cell_type": "code",
   "execution_count": null,
   "metadata": {},
   "outputs": [],
   "source": []
  }
 ],
 "metadata": {
  "kernelspec": {
   "display_name": "bootcamp-ds-Hu7-MTgx-py3.11",
   "language": "python",
   "name": "python3"
  },
  "language_info": {
   "codemirror_mode": {
    "name": "ipython",
    "version": 3
   },
   "file_extension": ".py",
   "mimetype": "text/x-python",
   "name": "python",
   "nbconvert_exporter": "python",
   "pygments_lexer": "ipython3",
   "version": "3.11.9"
  }
 },
 "nbformat": 4,
 "nbformat_minor": 2
}
