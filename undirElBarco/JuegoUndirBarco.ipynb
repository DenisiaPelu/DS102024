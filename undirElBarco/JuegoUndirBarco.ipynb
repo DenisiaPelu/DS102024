{
 "cells": [
  {
   "cell_type": "markdown",
   "metadata": {},
   "source": [
    "#Reglas del Juego:\n",
    "1. El tablero será de tamaño 10x10.\n",
    "2. Cada jugador tendrá 5 barcos de diferentes tamaños:\n",
    "- portaaviones (tamaño 5)\n",
    "- acorazado (tamaño 4)\n",
    "- crucero (tamaño 3)\n",
    "- submarino (tamaño 3)\n",
    "- destructor (tamaño 2)\n",
    "3. Los barcos podrán colocarse tanto en posición horizontal como vertical.\n",
    "4. Durante el turno de un jugador, este deberá elegir una coordenada para atacar (fila y columna). Si acierta, el barco atacado recibirá un golpe. Si se destruyen todas las partes de un barco, este se considerará hundido.\n",
    "5. El juego termina cuando un jugador logra hundir todos los barcos del oponente."
   ]
  },
  {
   "cell_type": "code",
   "execution_count": null,
   "metadata": {},
   "outputs": [],
   "source": [
    "print(\"Bienvenido al juego de Hundir la Flota\")"
   ]
  },
  {
   "cell_type": "code",
   "execution_count": null,
   "metadata": {},
   "outputs": [],
   "source": [
    "class Tlabero:\n",
    "    def __init__(self, tablero,barcos):\n",
    "        self.tablero=tablero\n",
    "        self.barcos=barcos\n",
    "\n",
    "    def colocar_barco(self,barco, posicion, orientacion):\n",
    "        if orientacion==\"horizontal\":\n",
    "            for i in range(barco.tamaño):\n",
    "                barco.nombre=self.tablero[posicion[0]][posicion[1]+i]\n",
    "        else:\n",
    "            for i in range(barco.tamaño):\n",
    "                barco.nombre=self.tablero[posicion[0]+i][posicion[1]]\n",
    "        self.barcos.append(barco)\n",
    "\n",
    "\n",
    "    def recibir_ataque(self,fila,columna):\n",
    "        for barco in self.barcos:\n",
    "            if barco.nombre==self.tablero[fila][columna]:\n",
    "                if barco.recibir_golpe():\n",
    "                    print(\"Hundido\")\n",
    "                    return True\n",
    "                else:\n",
    "                    print(\"Tocado\")\n",
    "                    return True\n",
    "        else:\n",
    "            print(\"Agua\")\n",
    "            return False\n",
    "\n",
    "\n",
    "    def mostrar_tablero(self):\n",
    "        for fila in self.tablero:\n",
    "            print(\" \".join(fila))\n",
    "            print(\"\\n\")\n",
    "        \n",
    "\n",
    "\n",
    "    def todos_barcos_hundidos(self):\n",
    "        for barco in self.barcos:\n",
    "            if not barco.esta_hundido():\n",
    "                return False\n",
    "            return True\n",
    "        "
   ]
  },
  {
   "cell_type": "code",
   "execution_count": null,
   "metadata": {},
   "outputs": [],
   "source": [
    "class Barco:\n",
    "    def __init__(self, nombre, tamaño,posicion,golpes):\n",
    "        self.nombre=nombre\n",
    "        self.tamaño=tamaño\n",
    "        self.posicion=posicion\n",
    "        self.golpes=golpes\n",
    "\n",
    "\n",
    "    def recibir_golpe(self):\n",
    "        self.golpes+=1\n",
    "        if self.golpes==self.tamaño:\n",
    "            return True\n",
    "\n",
    "    def esta_hundido(self):\n",
    "        return self.golpes==self.tamaño"
   ]
  },
  {
   "cell_type": "code",
   "execution_count": null,
   "metadata": {},
   "outputs": [],
   "source": [
    "class Jugador:\n",
    "    def __init__(self, nombre, tablero):\n",
    "        self.nombre=nombre\n",
    "        self.tablero=tablero\n",
    "\n",
    "    def atacar(self,oponente, fila, columna):\n",
    "        if oponente.tablero.recibir_ataque(fila,columna):\n",
    "            print(\"Tocado\")\n",
    "            return True\n",
    "        elif oponente.tablero.esta_hundido():\n",
    "            print(\"Hundido\")\n",
    "            return True\n",
    "        elif oponente.tablero.todos_barcos_hundidos():\n",
    "            print(\"Enhorabuena, has ganado\")\n",
    "            return True\n",
    "        else:\n",
    "            print(\"Agua\")\n",
    "            return False\n",
    "\n",
    "        "
   ]
  },
  {
   "cell_type": "code",
   "execution_count": null,
   "metadata": {},
   "outputs": [],
   "source": [
    "class Juego:\n",
    "    def iniciar_juego(self):\n",
    "        print(\"Bienvenido al juego de Hundir la Flota\")\n",
    "        nombre_jugador1 = input(\"Ingrese el nombre del jugador 1: \")\n",
    "        nombre_jugador2 = 'Computadora'\n",
    "        return Jugador(nombre_jugador1, Tlabero(10,10)), Jugador(nombre_jugador2, Tlabero(10,10))\n",
    "\n",
    "    def turno(self, jugador):\n",
    "        print(f\"Turno de {jugador.nombre}\")\n",
    "        fila = int(input(\"Ingrese la fila de ataque: \"))\n",
    "        columna = int(input(\"Ingrese la columna de ataque: \"))\n",
    "        return jugador.atacar(jugador, fila, columna)"
   ]
  }
 ],
 "metadata": {
  "kernelspec": {
   "display_name": "bootcamp-ds-Hu7-MTgx-py3.11",
   "language": "python",
   "name": "python3"
  },
  "language_info": {
   "name": "python",
   "version": "3.11.9"
  }
 },
 "nbformat": 4,
 "nbformat_minor": 2
}
