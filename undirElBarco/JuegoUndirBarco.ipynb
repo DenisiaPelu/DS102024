{
 "cells": [
  {
   "cell_type": "markdown",
   "metadata": {},
   "source": [
    "#Reglas del Juego:\n",
    "1. El tablero será de tamaño 10x10.\n",
    "2. Cada jugador tendrá 5 barcos de diferentes tamaños:\n",
    "- portaaviones (tamaño 5)\n",
    "- acorazado (tamaño 4)\n",
    "- crucero (tamaño 3)\n",
    "- submarino (tamaño 3)\n",
    "- destructor (tamaño 2)\n",
    "3. Los barcos podrán colocarse tanto en posición horizontal como vertical.\n",
    "4. Durante el turno de un jugador, este deberá elegir una coordenada para atacar (fila y columna). Si acierta, el barco atacado recibirá un golpe. Si se destruyen todas las partes de un barco, este se considerará hundido.\n",
    "5. El juego termina cuando un jugador logra hundir todos los barcos del oponente."
   ]
  },
  {
   "cell_type": "code",
   "execution_count": 13,
   "metadata": {},
   "outputs": [
    {
     "name": "stdout",
     "output_type": "stream",
     "text": [
      "Bienvenido al juego de Hundir la Flota\n"
     ]
    }
   ],
   "source": [
    "print(\"Bienvenido al juego de Hundir la Flota\")"
   ]
  },
  {
   "cell_type": "code",
   "execution_count": 14,
   "metadata": {},
   "outputs": [],
   "source": [
    "class Barco:\n",
    "    def __init__(self, nombre, tamaño,posicion,golpes):\n",
    "        self.nombre=nombre\n",
    "        self.tamaño=tamaño\n",
    "        self.posicion=posicion\n",
    "        self.golpes=golpes\n",
    "\n",
    "\n",
    "    def recibir_golpe(self):\n",
    "        self.golpes+=1\n",
    "        if self.golpes==self.tamaño:\n",
    "            return True\n",
    "\n",
    "    def esta_hundido(self):\n",
    "        return self.golpes==self.tamaño"
   ]
  },
  {
   "cell_type": "code",
   "execution_count": null,
   "metadata": {},
   "outputs": [],
   "source": [
    "class Tablero(Barco):\n",
    "    def __init__(self, tablero,barcos:Barco):\n",
    "        self.tablero=tablero\n",
    "        self.barcos=barcos\n",
    "\n",
    "    def colocar_barco(self,orientacion:str):\n",
    "        if orientacion==\"horizontal\":\n",
    "            for i in range(self.barcos.tamaño):\n",
    "                self.barcos.nombre=self.tablero[self.barcos.posicion[0]][self.barcos.posicion[1]+i]\n",
    "        else:\n",
    "            for i in range(self.barcos.tamaño):\n",
    "                self.barcos.nombre=self.tablero[self.barcos.posicion[0]+i][self.barcos.posicion[1]]\n",
    "        \n",
    "\n",
    "\n",
    "    def recibir_ataque(self,fila,columna):\n",
    "        for barco in self.barcos:\n",
    "            if self.barcos.nombre==self.tablero[fila][columna]:\n",
    "                if self.barcos.recibir_golpe():\n",
    "                    print(\"Hundido\")\n",
    "                    return True\n",
    "                else:\n",
    "                    print(\"Tocado\")\n",
    "                    return True\n",
    "        else:\n",
    "            print(\"Agua\")\n",
    "            return False\n",
    "\n",
    "\n",
    "    def mostrar_tablero(self):\n",
    "        for fila in self.tablero:\n",
    "            print(\"\\u25A1\".join(fila))\n",
    "\n",
    "        \n",
    "\n",
    "\n",
    "    def todos_barcos_hundidos(self):\n",
    "        for barco in self.barcos:\n",
    "            if not barco.esta_hundido():\n",
    "                return False\n",
    "            return True\n",
    "        "
   ]
  },
  {
   "cell_type": "code",
   "execution_count": null,
   "metadata": {},
   "outputs": [],
   "source": [
    "class Jugador(Tablero):\n",
    "    def __init__(self, nombre, tablero:Tablero):\n",
    "        self.nombre=nombre\n",
    "        self.tablero=tablero\n",
    "\n",
    "    def atacar(self,oponente, fila, columna):\n",
    "        if oponente.tablero.recibir_ataque(fila,columna):\n",
    "            print(\"Tocado\")\n",
    "            return True\n",
    "        elif oponente.tablero.todos_barcos_hundidos():\n",
    "            print(\"Hundido\")\n",
    "            return True\n",
    "        elif oponente.tablero.todos_barcos_hundidos():\n",
    "            print(\"Enhorabuena, has ganado\")\n",
    "            return True\n",
    "        else:\n",
    "            print(\"Agua\")\n",
    "            return False\n",
    "\n",
    "        "
   ]
  },
  {
   "cell_type": "code",
   "execution_count": 17,
   "metadata": {},
   "outputs": [],
   "source": [
    "class Juego:\n",
    "    def iniciar_juego(self):\n",
    "        print(\"Bienvenido al juego de Hundir la Flota\")\n",
    "        nombre_jugador1 = input(\"Ingrese el nombre del jugador 1: \")\n",
    "        nombre_jugador2 = 'Computadora'\n",
    "        return Jugador(nombre_jugador1, Tablero(10,10)), Jugador(nombre_jugador2, Tablero(10,10))\n",
    "\n",
    "    def turno(self, jugador):\n",
    "        print(f\"Turno de {jugador.nombre}\")\n",
    "        fila = int(input(\"Ingrese la fila de ataque: \"))\n",
    "        columna = int(input(\"Ingrese la columna de ataque: \"))\n",
    "        return jugador.atacar(jugador, fila, columna)"
   ]
  },
  {
   "cell_type": "code",
   "execution_count": 18,
   "metadata": {},
   "outputs": [],
   "source": [
    "# portaviones=Barco(\"Portaaviones\",5,(int(input('introduzca la fila:')),int(input('introduzca la columna'))),0)\n",
    "# acorazado=Barco(\"Acorazado\",4,(int(input('introduzca la fila:')),int(input('introduzca la columna'))),0)\n",
    "# crucero=Barco(\"Crucero\",3,(int(input('introduzca la fila:')),int(input('introduzca la columna'))),0)\n",
    "# submarino=Barco(\"Submarino\",3,(int(input('introduzca la fila:')),int(input('introduzca la columna'))),0)\n",
    "# destructor=Barco(\"Destructor\",2,(int(input('introduzca la fila:')),int(input('introduzca la columna'))),0)"
   ]
  },
  {
   "cell_type": "code",
   "execution_count": 19,
   "metadata": {},
   "outputs": [],
   "source": [
    "import numpy as np"
   ]
  },
  {
   "cell_type": "code",
   "execution_count": 20,
   "metadata": {},
   "outputs": [],
   "source": [
    "# Crear un tablero vacío de 10x10 usando una matriz de NumPy\n",
    "tablero_jugador = np.full((10, 10), \" \")\n",
    "\n"
   ]
  },
  {
   "cell_type": "code",
   "execution_count": 26,
   "metadata": {},
   "outputs": [],
   "source": [
    "jugador_1=Jugador(input('introduzca su nombre:'),tablero_jugador)\n"
   ]
  },
  {
   "cell_type": "code",
   "execution_count": null,
   "metadata": {},
   "outputs": [
    {
     "data": {
      "text/plain": [
       "<__main__.Jugador at 0x2062eb132d0>"
      ]
     },
     "execution_count": 27,
     "metadata": {},
     "output_type": "execute_result"
    }
   ],
   "source": [
    "jugador_1.colocar_barco()"
   ]
  },
  {
   "cell_type": "code",
   "execution_count": 22,
   "metadata": {},
   "outputs": [],
   "source": [
    "barco_1=Barco(\"Portaaviones\",5,(4,0),0)"
   ]
  },
  {
   "cell_type": "code",
   "execution_count": 25,
   "metadata": {},
   "outputs": [
    {
     "ename": "AttributeError",
     "evalue": "'numpy.ndarray' object has no attribute 'colocar_barco'",
     "output_type": "error",
     "traceback": [
      "\u001b[1;31m---------------------------------------------------------------------------\u001b[0m",
      "\u001b[1;31mAttributeError\u001b[0m                            Traceback (most recent call last)",
      "Cell \u001b[1;32mIn[25], line 1\u001b[0m\n\u001b[1;32m----> 1\u001b[0m \u001b[43mjugador_1\u001b[49m\u001b[38;5;241;43m.\u001b[39;49m\u001b[43mtablero\u001b[49m\u001b[38;5;241;43m.\u001b[39;49m\u001b[43mcolocar_barco\u001b[49m(\u001b[38;5;124m'\u001b[39m\u001b[38;5;124mhorizontal\u001b[39m\u001b[38;5;124m'\u001b[39m)\n",
      "\u001b[1;31mAttributeError\u001b[0m: 'numpy.ndarray' object has no attribute 'colocar_barco'"
     ]
    }
   ],
   "source": [
    "jugador_1.tablero.colocar_barco('horizontal')"
   ]
  },
  {
   "cell_type": "code",
   "execution_count": null,
   "metadata": {},
   "outputs": [
    {
     "ename": "TypeError",
     "evalue": "'int' object is not iterable",
     "output_type": "error",
     "traceback": [
      "\u001b[1;31m---------------------------------------------------------------------------\u001b[0m",
      "\u001b[1;31mTypeError\u001b[0m                                 Traceback (most recent call last)",
      "Cell \u001b[1;32mIn[19], line 1\u001b[0m\n\u001b[1;32m----> 1\u001b[0m \u001b[43mtablero_jugador\u001b[49m\u001b[38;5;241;43m.\u001b[39;49m\u001b[43mmostrar_tablero\u001b[49m\u001b[43m(\u001b[49m\u001b[43m)\u001b[49m\n",
      "Cell \u001b[1;32mIn[2], line 31\u001b[0m, in \u001b[0;36mTablero.mostrar_tablero\u001b[1;34m(self)\u001b[0m\n\u001b[0;32m     30\u001b[0m \u001b[38;5;28;01mdef\u001b[39;00m \u001b[38;5;21mmostrar_tablero\u001b[39m(\u001b[38;5;28mself\u001b[39m):\n\u001b[1;32m---> 31\u001b[0m \u001b[43m    \u001b[49m\u001b[38;5;28;43;01mfor\u001b[39;49;00m\u001b[43m \u001b[49m\u001b[43mfila\u001b[49m\u001b[43m \u001b[49m\u001b[38;5;129;43;01min\u001b[39;49;00m\u001b[43m \u001b[49m\u001b[38;5;28;43mself\u001b[39;49m\u001b[38;5;241;43m.\u001b[39;49m\u001b[43mtablero\u001b[49m\u001b[43m:\u001b[49m\n\u001b[0;32m     32\u001b[0m \u001b[43m        \u001b[49m\u001b[38;5;28;43mprint\u001b[39;49m\u001b[43m(\u001b[49m\u001b[38;5;124;43m\"\u001b[39;49m\u001b[38;5;124;43m \u001b[39;49m\u001b[38;5;124;43m\"\u001b[39;49m\u001b[38;5;241;43m.\u001b[39;49m\u001b[43mjoin\u001b[49m\u001b[43m(\u001b[49m\u001b[43mfila\u001b[49m\u001b[43m)\u001b[49m\u001b[43m)\u001b[49m\n\u001b[0;32m     33\u001b[0m \u001b[43m        \u001b[49m\u001b[38;5;28;43mprint\u001b[39;49m\u001b[43m(\u001b[49m\u001b[38;5;124;43m\"\u001b[39;49m\u001b[38;5;130;43;01m\\n\u001b[39;49;00m\u001b[38;5;124;43m\"\u001b[39;49m\u001b[43m)\u001b[49m\n",
      "\u001b[1;31mTypeError\u001b[0m: 'int' object is not iterable"
     ]
    }
   ],
   "source": [
    "tablero_jugador.mostrar_tablero()"
   ]
  },
  {
   "cell_type": "code",
   "execution_count": null,
   "metadata": {},
   "outputs": [],
   "source": []
  },
  {
   "cell_type": "code",
   "execution_count": null,
   "metadata": {},
   "outputs": [
    {
     "ename": "TypeError",
     "evalue": "Tablero.colocar_barco() missing 1 required positional argument: 'orientacion'",
     "output_type": "error",
     "traceback": [
      "\u001b[1;31m---------------------------------------------------------------------------\u001b[0m",
      "\u001b[1;31mTypeError\u001b[0m                                 Traceback (most recent call last)",
      "Cell \u001b[1;32mIn[8], line 1\u001b[0m\n\u001b[1;32m----> 1\u001b[0m \u001b[43mTablero\u001b[49m\u001b[38;5;241;43m.\u001b[39;49m\u001b[43mcolocar_barco\u001b[49m\u001b[43m(\u001b[49m\u001b[38;5;124;43m'\u001b[39;49m\u001b[38;5;124;43mhorizontal\u001b[39;49m\u001b[38;5;124;43m'\u001b[39;49m\u001b[43m)\u001b[49m\n",
      "\u001b[1;31mTypeError\u001b[0m: Tablero.colocar_barco() missing 1 required positional argument: 'orientacion'"
     ]
    }
   ],
   "source": [
    "barco_1."
   ]
  },
  {
   "cell_type": "code",
   "execution_count": null,
   "metadata": {},
   "outputs": [
    {
     "ename": "TypeError",
     "evalue": "Tablero.colocar_barco() missing 1 required positional argument: 'orientacion'",
     "output_type": "error",
     "traceback": [
      "\u001b[1;31m---------------------------------------------------------------------------\u001b[0m",
      "\u001b[1;31mTypeError\u001b[0m                                 Traceback (most recent call last)",
      "Cell \u001b[1;32mIn[9], line 1\u001b[0m\n\u001b[1;32m----> 1\u001b[0m \u001b[43mTablero\u001b[49m\u001b[38;5;241;43m.\u001b[39;49m\u001b[43mcolocar_barco\u001b[49m\u001b[43m(\u001b[49m\u001b[38;5;124;43m'\u001b[39;49m\u001b[38;5;124;43mvertical\u001b[39;49m\u001b[38;5;124;43m'\u001b[39;49m\u001b[43m)\u001b[49m\n",
      "\u001b[1;31mTypeError\u001b[0m: Tablero.colocar_barco() missing 1 required positional argument: 'orientacion'"
     ]
    }
   ],
   "source": [
    "\n",
    "Tablero.colocar_barco('vertical')\n",
    "\n"
   ]
  },
  {
   "cell_type": "code",
   "execution_count": null,
   "metadata": {},
   "outputs": [
    {
     "ename": "TypeError",
     "evalue": "Tablero.colocar_barco() missing 1 required positional argument: 'orientacion'",
     "output_type": "error",
     "traceback": [
      "\u001b[1;31m---------------------------------------------------------------------------\u001b[0m",
      "\u001b[1;31mTypeError\u001b[0m                                 Traceback (most recent call last)",
      "Cell \u001b[1;32mIn[29], line 1\u001b[0m\n\u001b[1;32m----> 1\u001b[0m \u001b[43mTablero\u001b[49m\u001b[38;5;241;43m.\u001b[39;49m\u001b[43mcolocar_barco\u001b[49m\u001b[43m(\u001b[49m\u001b[43mBarco\u001b[49m\u001b[43m(\u001b[49m\u001b[38;5;124;43m\"\u001b[39;49m\u001b[38;5;124;43mPortaaviones\u001b[39;49m\u001b[38;5;124;43m\"\u001b[39;49m\u001b[43m,\u001b[49m\u001b[38;5;241;43m5\u001b[39;49m\u001b[43m,\u001b[49m\u001b[43m(\u001b[49m\u001b[38;5;241;43m4\u001b[39;49m\u001b[43m,\u001b[49m\u001b[38;5;241;43m0\u001b[39;49m\u001b[43m)\u001b[49m\u001b[43m,\u001b[49m\u001b[38;5;241;43m0\u001b[39;49m\u001b[43m)\u001b[49m\u001b[43m,\u001b[49m\u001b[38;5;124;43m'\u001b[39;49m\u001b[38;5;124;43mhorizontal\u001b[39;49m\u001b[38;5;124;43m'\u001b[39;49m\u001b[43m)\u001b[49m\n\u001b[0;32m      2\u001b[0m Tablero\u001b[38;5;241m.\u001b[39mmostrar_tablero\n",
      "\u001b[1;31mTypeError\u001b[0m: Tablero.colocar_barco() missing 1 required positional argument: 'orientacion'"
     ]
    }
   ],
   "source": [
    "Tablero.colocar_barco(Barco(\"Portaaviones\",5,(4,0),0),'horizontal')\n",
    "Tablero.mostrar_tablero"
   ]
  },
  {
   "cell_type": "code",
   "execution_count": null,
   "metadata": {},
   "outputs": [
    {
     "ename": "TypeError",
     "evalue": "Tablero.colocar_barco() missing 1 required positional argument: 'orientacion'",
     "output_type": "error",
     "traceback": [
      "\u001b[1;31m---------------------------------------------------------------------------\u001b[0m",
      "\u001b[1;31mTypeError\u001b[0m                                 Traceback (most recent call last)",
      "Cell \u001b[1;32mIn[24], line 4\u001b[0m\n\u001b[0;32m      2\u001b[0m palabra\u001b[38;5;241m=\u001b[39m\u001b[38;5;28minput\u001b[39m(\u001b[38;5;124mf\u001b[39m\u001b[38;5;124m'\u001b[39m\u001b[38;5;124mIntroduzca el nombre del barco \u001b[39m\u001b[38;5;132;01m{\u001b[39;00mi\u001b[38;5;132;01m}\u001b[39;00m\u001b[38;5;124m:\u001b[39m\u001b[38;5;124m'\u001b[39m)\n\u001b[0;32m      3\u001b[0m \u001b[38;5;28;01mif\u001b[39;00m palabra\u001b[38;5;241m==\u001b[39m\u001b[38;5;124m'\u001b[39m\u001b[38;5;124mportaviones\u001b[39m\u001b[38;5;124m'\u001b[39m:\n\u001b[1;32m----> 4\u001b[0m     \u001b[43mjugador_1\u001b[49m\u001b[38;5;241;43m.\u001b[39;49m\u001b[43mtablero\u001b[49m\u001b[38;5;241;43m.\u001b[39;49m\u001b[43mcolocar_barco\u001b[49m\u001b[43m(\u001b[49m\u001b[43mBarco\u001b[49m\u001b[43m(\u001b[49m\u001b[38;5;124;43m\"\u001b[39;49m\u001b[38;5;124;43mPortaaviones\u001b[39;49m\u001b[38;5;124;43m\"\u001b[39;49m\u001b[43m,\u001b[49m\u001b[38;5;241;43m5\u001b[39;49m\u001b[43m,\u001b[49m\u001b[43m(\u001b[49m\u001b[38;5;28;43mint\u001b[39;49m\u001b[43m(\u001b[49m\u001b[38;5;28;43minput\u001b[39;49m\u001b[43m(\u001b[49m\u001b[38;5;124;43m'\u001b[39;49m\u001b[38;5;124;43mintroduzca la fila:\u001b[39;49m\u001b[38;5;124;43m'\u001b[39;49m\u001b[43m)\u001b[49m\u001b[43m)\u001b[49m\u001b[43m,\u001b[49m\u001b[38;5;28;43mint\u001b[39;49m\u001b[43m(\u001b[49m\u001b[38;5;28;43minput\u001b[39;49m\u001b[43m(\u001b[49m\u001b[38;5;124;43m'\u001b[39;49m\u001b[38;5;124;43mintroduzca la columna\u001b[39;49m\u001b[38;5;124;43m'\u001b[39;49m\u001b[43m)\u001b[49m\u001b[43m)\u001b[49m\u001b[43m)\u001b[49m\u001b[43m,\u001b[49m\u001b[38;5;241;43m0\u001b[39;49m\u001b[43m)\u001b[49m\u001b[43m,\u001b[49m\u001b[38;5;28;43mstr\u001b[39;49m\u001b[43m(\u001b[49m\u001b[38;5;28;43minput\u001b[39;49m\u001b[43m(\u001b[49m\u001b[38;5;124;43m'\u001b[39;49m\u001b[38;5;124;43mhorizontal o vertical:\u001b[39;49m\u001b[38;5;124;43m'\u001b[39;49m\u001b[43m)\u001b[49m\u001b[43m)\u001b[49m\u001b[43m)\u001b[49m\n\u001b[0;32m      5\u001b[0m \u001b[38;5;28;01melif\u001b[39;00m palabra\u001b[38;5;241m==\u001b[39m\u001b[38;5;124m'\u001b[39m\u001b[38;5;124macorazado\u001b[39m\u001b[38;5;124m'\u001b[39m:\n\u001b[0;32m      6\u001b[0m     jugador_1\u001b[38;5;241m.\u001b[39mtablero\u001b[38;5;241m.\u001b[39mcolocar_barco(Barco(\u001b[38;5;124m\"\u001b[39m\u001b[38;5;124mAcorazado\u001b[39m\u001b[38;5;124m\"\u001b[39m,\u001b[38;5;241m4\u001b[39m,(\u001b[38;5;28mint\u001b[39m(\u001b[38;5;28minput\u001b[39m(\u001b[38;5;124m'\u001b[39m\u001b[38;5;124mintroduzca la fila:\u001b[39m\u001b[38;5;124m'\u001b[39m)),\u001b[38;5;28mint\u001b[39m(\u001b[38;5;28minput\u001b[39m(\u001b[38;5;124m'\u001b[39m\u001b[38;5;124mintroduzca la columna\u001b[39m\u001b[38;5;124m'\u001b[39m))),\u001b[38;5;241m0\u001b[39m))\n",
      "\u001b[1;31mTypeError\u001b[0m: Tablero.colocar_barco() missing 1 required positional argument: 'orientacion'"
     ]
    }
   ],
   "source": [
    "\n",
    "\n",
    "for i in range(1,6):\n",
    "    palabra=input(f'Introduzca el nombre del barco {i}:')\n",
    "    if palabra=='portaviones':\n",
    "        jugador_1.tablero.colocar_barco(Barco(\"Portaaviones\",5,(int(input('introduzca la fila:')),int(input('introduzca la columna'))),0),str(input('horizontal o vertical:')))\n",
    "    elif palabra=='acorazado':\n",
    "        jugador_1.tablero.colocar_barco(Barco(\"Acorazado\",4,(int(input('introduzca la fila:')),int(input('introduzca la columna'))),0))\n",
    "    elif palabra=='crucero':\n",
    "        jugador_1.tablero.colocar_barco(Barco(\"Crucero\",3,(int(input('introduzca la fila:')),int(input('introduzca la columna'))),0))\n",
    "    elif palabra=='submarino':\n",
    "        jugador_1.tablero.colocar_barco(Barco(\"Submarino\",3,(int(input('introduzca la fila:')),int(input('introduzca la columna'))),0))\n",
    "    elif palabra =='destructor':\n",
    "        jugador_1.tablero.colocar_barco(Barco(\"Destructor\",2,(int(input('introduzca la fila:')),int(input('introduzca la columna'))),0))\n",
    "        \n",
    "    i+=1\n",
    "    \n",
    "print('Tablero Jugador 1:',Tablero.mostrar_tablero())\n"
   ]
  }
 ],
 "metadata": {
  "kernelspec": {
   "display_name": "bootcamp-ds-Hu7-MTgx-py3.11",
   "language": "python",
   "name": "python3"
  },
  "language_info": {
   "codemirror_mode": {
    "name": "ipython",
    "version": 3
   },
   "file_extension": ".py",
   "mimetype": "text/x-python",
   "name": "python",
   "nbconvert_exporter": "python",
   "pygments_lexer": "ipython3",
   "version": "3.11.9"
  }
 },
 "nbformat": 4,
 "nbformat_minor": 2
}
