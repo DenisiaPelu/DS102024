{
 "cells": [
  {
   "cell_type": "markdown",
   "metadata": {},
   "source": [
    "Regresión Logística: Explicación Detallada\n",
    "1. Introducción\n",
    "La regresión logística es un modelo estadístico utilizado para la clasificación binaria y multiclase. A diferencia de la regresión lineal, donde la variable dependiente es continua, la regresión logística predice probabilidades y se usa para modelar una variable dependiente categórica.\n",
    "Por ejemplo, en clasificación binaria (0 o 1), el modelo estima la probabilidad de que una observación pertenezca a una de las dos clases. Si la probabilidad es mayor a un umbral (generalmente 0.5), la predicción será 1, en caso contrario, será 0.\n",
    "2. Modelo Matemático\n",
    "2.1. Función Sigmoide\n",
    "La función principal en la regresión logística es la sigmoide o logística, definida como:\n",
    "σ(z)=11+e−z\\sigma(z) = \\frac{1}{1 + e^{-z}}σ(z)=1+e−z1\n",
    "Donde:\n",
    "•\tz=β0+β1x1+β2x2+...+βnxnz = \\beta_0 + \\beta_1 x_1 + \\beta_2 x_2 + ... + \\beta_n x_nz=β0+β1x1+β2x2+...+βnxn es la combinación lineal de los predictores.\n",
    "•\tσ(z)\\sigma(z)σ(z) transforma cualquier valor real en un rango entre (0,1), interpretado como una probabilidad.\n"
   ]
  }
 ],
 "metadata": {
  "language_info": {
   "name": "python"
  }
 },
 "nbformat": 4,
 "nbformat_minor": 2
}
