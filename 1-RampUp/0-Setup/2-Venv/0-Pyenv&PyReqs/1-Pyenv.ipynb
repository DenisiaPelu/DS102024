{
 "cells": [
  {
   "cell_type": "markdown",
   "metadata": {},
   "source": [
    "# 1. Pyenv: Gestión sencilla de versiones de Python"
   ]
  },
  {
   "cell_type": "markdown",
   "metadata": {},
   "source": [
    "![](./img/pyenv.webp)"
   ]
  },
  {
   "cell_type": "markdown",
   "metadata": {},
   "source": [
    "## 1.1 Introducción"
   ]
  },
  {
   "cell_type": "markdown",
   "metadata": {},
   "source": [
    "### ¿Qué es Pyenv?"
   ]
  },
  {
   "cell_type": "markdown",
   "metadata": {},
   "source": [
    "&nbsp;&nbsp;&nbsp;&nbsp;**Pyenv** es una herramienta esencial para quienes desarrollan en Python, ya que permite gestionar diversas versiones del lenguaje de programación en una misma computadora. Su uso simplifica enormemente la tarea de alternar entre versiones de Python, lo cual resulta especialmente práctico al trabajar en múltiples proyectos que requieren distintas versiones. Además, pyenv es muy útil para probar cómo se comporta el código en diferentes versiones de Python, asegurando así una mayor compatibilidad y robustez del software creado."
   ]
  },
  {
   "cell_type": "markdown",
   "metadata": {},
   "source": [
    "### 1.2 Prerrequisitos para la instalación"
   ]
  },
  {
   "cell_type": "markdown",
   "metadata": {},
   "source": [
    "&nbsp;&nbsp;&nbsp;&nbsp;Cuando se usa Pyenv para cambiar la versión de Python, afectará solo al entorno en el que estás trabajando. Esto significa que no alterará la versión de Python global en tu sistema, a menos que elijas hacerlo explícitamente.\n",
    "\n",
    "&nbsp;&nbsp;&nbsp;&nbsp;Antes de instalar Pyenv, asegúrate de tener instaladas las dependencias necesarias, como Git, ya que Pyenv utiliza Git para gestionar las versiones de Python."
   ]
  },
  {
   "cell_type": "markdown",
   "metadata": {},
   "source": [
    "#### 1.2.1 Windows `pyenv-win`"
   ]
  },
  {
   "cell_type": "markdown",
   "metadata": {},
   "source": [
    "##### Instalar Pyenv con PowerShell\n",
    "\n",
    "&nbsp;&nbsp;&nbsp;&nbsp;Lo primero es habilitar la ejecución de scrips en PowerShell en modo administrador. Puedes consultar la documentación en: https://learn.microsoft.com/en-us/powershell/module/microsoft.powershell.core/about/about_execution_policies"
   ]
  },
  {
   "cell_type": "markdown",
   "metadata": {},
   "source": [
    "> Set-ExecutionPolicy Unrestricted"
   ]
  },
  {
   "cell_type": "markdown",
   "metadata": {},
   "source": [
    "&nbsp;&nbsp;&nbsp;&nbsp;Lo segundo es ejecutar el siguiente comando en nuestra terminal PowerShell para instalar Pyenv:"
   ]
  },
  {
   "cell_type": "markdown",
   "metadata": {},
   "source": [
    ">Invoke-WebRequest -UseBasicParsing -Uri \"https://raw.githubusercontent.com/pyenv-win/pyenv-win/master/pyenv-win/install-pyenv-win.ps1\" -OutFile \"./install-pyenv-win.ps1\"; &\"./install-pyenv-win.ps1\""
   ]
  },
  {
   "cell_type": "markdown",
   "metadata": {},
   "source": [
    "#### 1.2.2 Mac"
   ]
  },
  {
   "cell_type": "markdown",
   "metadata": {},
   "source": [
    "&nbsp;&nbsp;&nbsp;&nbsp;Antes de poder instalar pyenv en tu Mac puede que tengas que instalar otras herramientas si no lo has hecho ya. En primer lugar, las herramientas de línea de comandos XCode que se instalan desde la aplicación de Terminal mediante el siguiente comando:"
   ]
  },
  {
   "cell_type": "markdown",
   "metadata": {
    "vscode": {
     "languageId": "plaintext"
    }
   },
   "source": [
    ">xcode-select --install"
   ]
  },
  {
   "cell_type": "markdown",
   "metadata": {},
   "source": [
    "&nbsp;&nbsp;&nbsp;&nbsp;A continuación, también puedes instalar Homebrew ya que esta herramienta nos facilita la instalación de pyenv. Para ello utiliza el siguiente comando:"
   ]
  },
  {
   "cell_type": "markdown",
   "metadata": {},
   "source": [
    ">/bin/bash -c \"$(curl -fsSL https://raw.githubusercontent.com/Homebrew/install/HEAD/install.sh)\""
   ]
  },
  {
   "cell_type": "markdown",
   "metadata": {},
   "source": [
    "&nbsp;&nbsp;&nbsp;&nbsp;Además, hay que tener en cuenta que pyenv en realidad compila Python desde el código fuente. Por ello, para evitar posibles errores en este proceso, puede que necesites instalar algunas librerías adicionales. Estas se pueden instalar con el mismo Homebrew:"
   ]
  },
  {
   "cell_type": "markdown",
   "metadata": {},
   "source": [
    ">brew install openssl readline sqlite3 xz zlib"
   ]
  },
  {
   "cell_type": "markdown",
   "metadata": {},
   "source": [
    "&nbsp;&nbsp;&nbsp;&nbsp;Finalmente, puedes utilizar Homebrew para instalar pyenv, con los mismos comandos que utilizarías para instalar cualquier otro paquete:"
   ]
  },
  {
   "cell_type": "markdown",
   "metadata": {},
   "source": [
    ">brew update\n",
    "\n",
    ">brew install pyenv"
   ]
  },
  {
   "cell_type": "markdown",
   "metadata": {},
   "source": [
    "### 1.3 Utilización de Pyenv"
   ]
  },
  {
   "cell_type": "markdown",
   "metadata": {},
   "source": [
    "&nbsp;&nbsp;&nbsp;&nbsp;Una vez hemos finalizado la instalación de pyenv, podemos comprobar que se haya instalado correctamente mediante el siguiente comando, el cual nos informa de la versión de pyenv que hemos instalado:"
   ]
  },
  {
   "cell_type": "markdown",
   "metadata": {},
   "source": [
    ">pyenv --version"
   ]
  },
  {
   "cell_type": "markdown",
   "metadata": {},
   "source": [
    "&nbsp;&nbsp;&nbsp;&nbsp;Pero quizás el comando más importante de pyenv es el que nos permite instalar una nueva versión de Python, que es el siguiente:"
   ]
  },
  {
   "cell_type": "markdown",
   "metadata": {},
   "source": [
    ">pyenv install <VERSION_PYTHON>"
   ]
  },
  {
   "cell_type": "markdown",
   "metadata": {},
   "source": [
    "&nbsp;&nbsp;&nbsp;&nbsp;Obviamente, en el comando anterior hay que sustituir VERSION_PYTHON por la versión de Python en cuestión que queremos instalar. Y para saber las versiones disponibles para instalar lo podemos hacer con el comando:"
   ]
  },
  {
   "cell_type": "markdown",
   "metadata": {},
   "source": [
    ">pyenv install -l"
   ]
  },
  {
   "cell_type": "markdown",
   "metadata": {},
   "source": [
    "&nbsp;&nbsp;&nbsp;&nbsp;podemos listar todas las versiones de Python instaladas en nuestro entorno de trabajo mediante el comando:"
   ]
  },
  {
   "cell_type": "markdown",
   "metadata": {},
   "source": [
    ">pyenv versions"
   ]
  },
  {
   "cell_type": "markdown",
   "metadata": {},
   "source": [
    "&nbsp;&nbsp;&nbsp;&nbsp;Para cambiar la versión de Python tenemos dos opciones. Por un lado, podemos establecer la versión global de Python, es decir, la versión que se va a utilizar por defecto en todas las carpetas de nuestro sistema:"
   ]
  },
  {
   "cell_type": "markdown",
   "metadata": {},
   "source": [
    ">pyenv global <VERSION_PYTHON>"
   ]
  },
  {
   "cell_type": "markdown",
   "metadata": {},
   "source": [
    "&nbsp;&nbsp;&nbsp;&nbsp;Por otro lado, también podemos establecer una versión de Python en una carpeta determinada del sistema. Esto lo conseguimos ejecutando el siguiente comando en la carpeta en cuestión:"
   ]
  },
  {
   "cell_type": "markdown",
   "metadata": {},
   "source": [
    ">pyenv local <VERSION_PYTHON>"
   ]
  },
  {
   "cell_type": "markdown",
   "metadata": {},
   "source": [
    "### 1.4 Actualización"
   ]
  },
  {
   "cell_type": "markdown",
   "metadata": {},
   "source": [
    "&nbsp;&nbsp;&nbsp;&nbsp;El modo para actualizarlo va a depender de nuestro sistema operativo."
   ]
  },
  {
   "cell_type": "markdown",
   "metadata": {},
   "source": [
    "**macOS**"
   ]
  },
  {
   "cell_type": "markdown",
   "metadata": {},
   "source": [
    "> brew upgrade pyenv"
   ]
  },
  {
   "cell_type": "markdown",
   "metadata": {},
   "source": [
    "**Windows**"
   ]
  },
  {
   "cell_type": "markdown",
   "metadata": {},
   "source": [
    ">pyenv update"
   ]
  }
 ],
 "metadata": {
  "language_info": {
   "name": "python"
  }
 },
 "nbformat": 4,
 "nbformat_minor": 2
}
