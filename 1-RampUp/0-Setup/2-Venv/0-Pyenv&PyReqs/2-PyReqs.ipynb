{
 "cells": [
  {
   "cell_type": "markdown",
   "metadata": {},
   "source": [
    "# 1. pipreqs: Gestiona mejor los requirements.txt"
   ]
  },
  {
   "cell_type": "markdown",
   "metadata": {},
   "source": [
    "![](./img/requirements.png)"
   ]
  },
  {
   "cell_type": "markdown",
   "metadata": {},
   "source": [
    "## 1.1 Presentando pipreqs\n",
    "\n",
    "&nbsp;&nbsp;&nbsp;&nbsp; Uno de los pasos más importantes al desarrollar un proyecto en Python es asegurarse de que todas las dependencias necesarias estén instaladas en el sistema. Esto asegura que el proyecto pueda ejecutarse correctamente en cualquier entorno.\n",
    "\n",
    "&nbsp;&nbsp;&nbsp;&nbsp; Una forma fácil de hacerlo es mediante el uso de un archivo ``requirements.txt``. Este archivo contiene una lista de todas las dependencias necesarias para el proyecto, y puede ser utilizado para instalar todas las dependencias en un solo comando. En este artículo, vamos a ver cómo generar un archivo ``requirements.txt`` utilizando la herramienta **pipreqs**.\n",
    "\n",
    "&nbsp;&nbsp;&nbsp;&nbsp; La herramienta **pipreqs** es una extensión de pip que se utiliza para generar archivos ``requirements.txt``. Es muy fácil de usar y se puede instalar mediante pip:"
   ]
  },
  {
   "cell_type": "markdown",
   "metadata": {},
   "source": [
    "## 1.2 Instalación\n",
    "> pip install pipreqs"
   ]
  },
  {
   "cell_type": "markdown",
   "metadata": {},
   "source": [
    "## 1.3 Utilización de pipreqs\n",
    "\n",
    "&nbsp;&nbsp;&nbsp;&nbsp; Una vez instalado, se puede utilizar **pipreqs** para generar un archivo ``requirements.txt`` en el directorio actual mediante el siguiente comando:\n",
    "\n",
    "> pipreqs ."
   ]
  },
  {
   "cell_type": "markdown",
   "metadata": {},
   "source": [
    "&nbsp;&nbsp;&nbsp;&nbsp; Este comando analizará el código en el directorio actual y generará un archivo ``requirements.txt`` que contiene una lista de todas las dependencias necesarias para el proyecto. El archivo se generará en el mismo directorio donde se ejecutó el comando.\n",
    "\n",
    "&nbsp;&nbsp;&nbsp;&nbsp; También se puede especificar un directorio diferente para generar el archivo ``requirements.txt``, utilizando el parámetro –output:\n",
    "\n",
    "> pipreqs . --output path/to/requirements.txt"
   ]
  },
  {
   "cell_type": "markdown",
   "metadata": {},
   "source": [
    "&nbsp;&nbsp;&nbsp;&nbsp; Una vez generado el archivo ``requirements.txt``, se puede utilizar para instalar todas las dependencias necesarias para el proyecto en otro entorno mediante el siguiente comando:\n",
    "\n",
    "> pip install -r requirements.txt"
   ]
  }
 ],
 "metadata": {
  "language_info": {
   "name": "python"
  }
 },
 "nbformat": 4,
 "nbformat_minor": 2
}
