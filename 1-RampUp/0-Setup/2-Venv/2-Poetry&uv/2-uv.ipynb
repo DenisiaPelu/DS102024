{
 "cells": [
  {
   "cell_type": "markdown",
   "metadata": {},
   "source": [
    "# 1. uv: Un instalador y resolvedor de paquetes Python extremadamente rápido, escrito en Rust."
   ]
  },
  {
   "cell_type": "markdown",
   "metadata": {},
   "source": [
    "![](./images/astral_uv.png)"
   ]
  },
  {
   "cell_type": "markdown",
   "metadata": {},
   "source": [
    "# 1.1 Aspectos destacados\n",
    "- ⚖️ Reemplaza los comandos comunes de pip, pip-tools y virtualenv.\n",
    "- ⚡️ 10-100x más rápido que pip y pip-tools (pip-compile y pip-sync).\n",
    "- Espacio de disco eficiente, con una caché global para la deduplicación de dependencias.\n",
    "- 🐍 Instalable vía curl, pip, pipx, etc. uv es un binario estático que puede ser instalado sin Rust o Python.\n",
    "- 🧪 Probado a escala contra los 10.000 mejores paquetes de PyPI.\n",
    "- 🖥️ Soporte para macOS, Linux y Windows.\n",
    "- 🧰 Características avanzadas como anulaciones de versión de dependencia y estrategias de resolución alternativas.\n",
    "- ⁉️ Los mejores mensajes de error de su clase con una resolución de seguimiento de conflictos.\n",
    "- 🤝 Soporte para una amplia gama de características avanzadas de pip, incluyendo instalaciones editables, dependencias Git, dependencias URL directas, dependencias locales, restricciones, distribuciones de fuentes, índices HTML y JSON, y mucho más.\n",
    "\n",
    "&nbsp;&nbsp;&nbsp;&nbsp; uv está respaldado por Astral, los creadores de Ruff."
   ]
  },
  {
   "cell_type": "markdown",
   "metadata": {},
   "source": [
    "## 1.2 Instalación"
   ]
  },
  {
   "cell_type": "markdown",
   "metadata": {},
   "source": [
    "&nbsp;&nbsp;&nbsp;&nbsp; Instala uv con instaladores independientes, o desde PyPI:"
   ]
  },
  {
   "cell_type": "markdown",
   "metadata": {},
   "source": [
    "#### En macOS y Linux.\n",
    "curl -LsSf https://astral.sh/uv/install.sh | sh\n",
    "\n",
    "#### En Windows.\n",
    "powershell -c \"irm https://astral.sh/uv/install.ps1 | iex\"\n",
    "\n",
    "#### Con pip.\n",
    "pip install uv\n",
    "\n",
    "#### Con Homebrew.\n",
    "brew install uv"
   ]
  },
  {
   "cell_type": "markdown",
   "metadata": {},
   "source": [
    "## 1.3 Utilización"
   ]
  },
  {
   "cell_type": "markdown",
   "metadata": {},
   "source": [
    "Para crear un entorno virtual:"
   ]
  },
  {
   "cell_type": "markdown",
   "metadata": {},
   "source": [
    "> uv venv\n",
    "   \n",
    "Crear un entorno virtual en .venv"
   ]
  },
  {
   "cell_type": "markdown",
   "metadata": {},
   "source": [
    "Para activar el entorno virtual:"
   ]
  },
  {
   "cell_type": "markdown",
   "metadata": {},
   "source": [
    "#### En macOS y Linux.\n",
    "source .venv/bin/activate\n",
    "\n",
    "#### En Windows.\n",
    ".venv\\Scripts\\activate"
   ]
  },
  {
   "cell_type": "markdown",
   "metadata": {},
   "source": [
    "Para instalar un paquete en el entorno virtual:"
   ]
  },
  {
   "cell_type": "markdown",
   "metadata": {},
   "source": [
    "##### Instalar Flask.\n",
    "- > uv pip install flask                \n",
    "##### Instalar desde un archivo requirements.txt.\n",
    "- > uv pip install -r requirements.txt  \n",
    "##### Instala el proyecto actual en modo editable.\n",
    "- > uv pip install -e .                 \n",
    "##### Instala el proyecto actual desde el disco.\n",
    "- > uv pip install \"package @ .\"        \n",
    "##### Instalar Flask con \"dotenv\" extra.\n",
    "- > uv pip install \"flask[dotenv]\"      "
   ]
  },
  {
   "cell_type": "markdown",
   "metadata": {},
   "source": [
    "Para generar un conjunto de dependencias bloqueadas:"
   ]
  },
  {
   "cell_type": "markdown",
   "metadata": {},
   "source": [
    "##### Lee un archivo requirements.\n",
    "- > uv pip compile requirements.in ``-o requirements.txt  ``  \n",
    "##### Leer un archivo pyproject.toml\n",
    "- > uv pip compile pyproject.toml ``-o requirements.txt  ``   \n",
    "##### Leer un archivo setup.py.\n",
    "- > uv pip compile setup.py ``-o requirements.txt  ``         \n",
    "##### Bloquea el entorno actual.\n",
    "- > uv pip freeze | uv pip compile - ``-o requirements.txt  ``"
   ]
  },
  {
   "cell_type": "markdown",
   "metadata": {},
   "source": [
    "&nbsp;&nbsp;&nbsp;&nbsp; Los comandos pip-install y pip-compile de uv soportan muchos de los mismos argumentos de línea de comandos que las herramientas existentes, incluyendo -r requirements.txt, -c constraints.txt, -e . (para instalaciones editables), --index-url, y más."
   ]
  },
  {
   "cell_type": "markdown",
   "metadata": {},
   "source": [
    "## 1.4 Limitaciones\n",
    "&nbsp;&nbsp;&nbsp;&nbsp; Aunque uv soporta un gran subconjunto de la interfaz pip, no soporta todo el conjunto de características. En algunos casos, esas diferencias son intencionales; en otros, son el resultado de la temprana etapa de desarrollo de uv.\n",
    "\n",
    "&nbsp;&nbsp;&nbsp;&nbsp; Al igual que pip-compile, uv genera un archivo requirements.txt específico de la plataforma (a diferencia de, por ejemplo, poetry, pipreqs y pdm, que generan archivos poetry.lock y pdm.lock independientes de la plataforma). Como tal, los archivos requirements.txt de uv pueden no ser portables entre plataformas y versiones de Python."
   ]
  }
 ],
 "metadata": {
  "language_info": {
   "name": "python"
  }
 },
 "nbformat": 4,
 "nbformat_minor": 2
}
