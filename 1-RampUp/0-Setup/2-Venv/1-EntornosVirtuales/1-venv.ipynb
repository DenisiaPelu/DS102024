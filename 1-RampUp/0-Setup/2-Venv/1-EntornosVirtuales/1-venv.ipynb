{
    "cells": [
        {
            "cell_type": "markdown",
            "metadata": {},
            "source": [
                "# 1. PIP: Gestor de paquetes y ambientes\n",
                "\n",
                "<a href=\"https://docs.python.org/es/3/library/venv.html\">\n",
                "    <img alt=\"Logo de pip\" src=\"https://geekpython.in/wp-content/uploads/2023/08/Python-Virtual-Environments.png\" style=\"width: 600px;\">\n",
                "</a>"
            ]
        },
        {
            "cell_type": "markdown",
            "metadata": {},
            "source": [
                "## 1.1. Introducción a conceptos básicos"
            ]
        },
        {
            "cell_type": "markdown",
            "metadata": {},
            "source": [
                "### ¿Qué es VENV?\n",
                "\n",
                "&nbsp;&nbsp;&nbsp;&nbsp;**VENV** es un módulo de la biblioteca estándar de Python que proporciona soporte para crear \"entornos virtuales\".\n",
                "\n",
                "### ¿Qué es un ambiente virtual?\n",
                "\n",
                ">\"Un entorno de desarrollo aislado que permite a los usuarios de Python y a las aplicaciones trabajar de manera independiente de otros entornos Python en el mismo sistema. Esto significa que puedes instalar y gestionar paquetes de Python específicos para un proyecto sin interferir con los paquetes instalados en otros ambientes virtuales o en el sistema principal. Los ambientes virtuales son útiles para mantener la limpieza y la consistencia en tus proyectos, así como para evitar conflictos entre dependencias.\"\n",
                "\n",
                "&nbsp;&nbsp;&nbsp;&nbsp;Dicho de otra manera, un ambiente virtual es lo que nos permite aislar el proyecto actual en el que estemos trabajando del resto de los proyectos que también estamos trabajando o, por ejemplo, del ambiente que es requerido para que nuestro sistema funcione correctamente.\n",
                "\n",
                "### ¿Para qué necesitamos aislar nuestro proyecto?\n",
                "\n",
                "&nbsp;&nbsp;&nbsp;&nbsp;Nada mejor que responder una pregunta con otra: \n",
                "\n",
                "`¿Qué hacemos si el proyecto \"A\" requiere la version 2.8 de una librería y el proyecto \"B\" requiere la version 3.4?`\n",
                "\n",
                "&nbsp;&nbsp;&nbsp;&nbsp; En ese caso cada vez que quisiéramos cambiar de proyecto, tendríamos que desinstalar la versión anterior e instalar la nueva. Para evitar tener que hacer esto, podemos hacer uso de un **ambiente virtual** para que cada vez que queremos cambiar de proyecto solo tengamos que cambiar de ambiente y ambas versiones de la librería puedan coexistir."
            ]
        },
        {
            "cell_type": "markdown",
            "metadata": {},
            "source": [
                "| <img alt=\"Ambientes Virtuales\" src=\"https://raw.githubusercontent.com/institutohumai/cursos-python/master/PracticasDeDesarrollo/2_Desarrollo_II/1_EntornosVirtuales/images/ambientes_virtuales.webp\" /> |\n",
                "|:--:|"
            ]
        },
        {
            "cell_type": "markdown",
            "metadata": {},
            "source": [
                "\n",
                "### Ok, ¿Entonces necesito VENV para trabajar con ambientes virtuales?\n",
                "\n",
                "&nbsp;&nbsp;&nbsp;&nbsp; Para nada. De hecho existe una alternativa llamada **CONDA** que sirve para hacer exactamente eso. Algunas herramientas que tras bambalinas lo utilizan son por ejemplo Pipenv o Poetry (de este último hablaremos más tarde ;) ).\n",
                "\n",
                "\n",
                "&nbsp;&nbsp;&nbsp;&nbsp; Dicho esto existen diferencias entre usar un \"ambiente virtual + PIP\" o CONDA y que estará en cada uno usar su criterio profesional (👀) para decidir en que momento conviene usar uno u otro:\n",
                "\n",
                "- Cuando hablamos de dependencias para nuestros proyectos normalmente nos referimos a librerías y las librerías de esas librerías, instalables con un simple `pip install librería`; pero en varios casos las dependencias no son puras de Python y requieren que instalemos dependencias de sistemas usando el gestor de paquetes del mismo (apt, yum, brew, etc) para poder funcionar.\n",
                "\n",
                "\n",
                "- Cuando queremos crear un ambiente virtual con venv, necesitamos que exista una versión de Python en el sistema (sino, ¿de dónde va a sacar el paquete standard?). Esto hace que cada vez que necesitemos una versión específica de Python tendremos que instalarla para después generar un ambiente virtual de la misma. Vale la pena aclarar que existen herramientas para hacer eso, por ejemplo *Pyenv*.\n",
                "\n",
                "\n",
                "- Con venv, podemos agregar \n",
                "paquetes con pip.\n",
                "\n",
                "\n",
                "- CONDA instala TODO lo que necesites, puede que en muchos casos los ambientes se vuelvan pesados. Este problema se presenta cuando las dependencias entre proyectos son casi las mismas, a diferencia de unas pocas. Y que al estar todas aisladas, se repiten multiples veces ocupando mucho espacio.\n",
                "\n",
                "- CONDA no solo es un gestor de paquetes para Python. Puede gestionar paquetes de R, Ruby, Lua, Scala, Java, JavaScript, C, C++, FORTRAN.\n",
                "\n",
                "- Otro concepto que los diferencia es que en CONDA tenemos canales (channels). En PIP todos los paquetes vienen de un mismo canal: [The Python Package Index](https://pypi.org/). En CONDA, existen diferentes canales desde donde descargar dependencias, oficiales y extraoficiales. El canal por defecto tiene un nombre increíblemente atípico llamado... [defaults](https://anaconda.org/anaconda/repo) y en donde para publicar paquetes en el mismo tenemos que pagar una licencia (solo para subir paquetes, es gratis de descargar). Este se podría considerar cómo el canal estable. Ahora, existe otro canal llamado [conda-forge](https://anaconda.org/conda-forge/repo) en donde es libre de subir paquetes y normalmente están más actualizados. Vale la pena mencionar que en un mismo ambiente pueden coexistir paquetes que vienen de diferentes canales pero puede llevar a incompatibilidades.\n",
                "\n"
            ]
        },
        {
            "cell_type": "markdown",
            "metadata": {},
            "source": [
                "---"
            ]
        },
        {
            "cell_type": "markdown",
            "metadata": {},
            "source": [
                "### 1.2 Instalación"
            ]
        },
        {
            "cell_type": "markdown",
            "metadata": {},
            "source": [
                "&nbsp;&nbsp;&nbsp;&nbsp; Para instalar y usar un entorno virtual con venv en Python, sigue estos pasos:\n",
                "\n",
                "&nbsp;&nbsp;&nbsp;&nbsp; Verificar la instalación de Python: Asegúrate de que tienes Python 3 instalado en tu sistema. Puedes verificarlo abriendo una terminal y escribiendo python --version o python3 --version.\n"
            ]
        },
        {
            "cell_type": "markdown",
            "metadata": {},
            "source": [
                "---"
            ]
        },
        {
            "cell_type": "markdown",
            "metadata": {},
            "source": [
                "### 1.3 Creación de ambientes"
            ]
        },
        {
            "cell_type": "markdown",
            "metadata": {},
            "source": [
                "&nbsp;&nbsp;&nbsp;&nbsp; Crear un entorno virtual: Elige un directorio donde quieras crear el entorno virtual. Abre una terminal en ese directorio y ejecuta el siguiente comando:\n",
                "\n",
                "```bash \n",
                "python -m venv DataScience\n",
                "```\n",
                "\n",
                "&nbsp;&nbsp;&nbsp;&nbsp; Expliquemos un poco el comando:\n",
                " * `python` Este es el comando principal para ejecutar el intérprete de Python.\n",
                " * `-m venv`  La opción -m le dice a Python que ejecute el módulo que le sigue como un script. En este caso, el módulo que le sigue es venv.\n",
                " * `DataScience` Este es el nombre del entorno virtual que quieres crear.\n",
                "\n",
                "\n",
                "&nbsp;&nbsp;&nbsp;&nbsp; Bueno ya creé mi nuevo ambiente, ¿Ahora qué? Tenemos que activar el nuevo ambiente. Para \"navegar\" entre los distintos ambientes debemos activar/desactivar ambientes.\n",
                "\n",
                "```console\n",
                ".\\nombre_del_entorno\\Scripts\\activate\n",
                "(DataScience) C:\\Users\\jamr1> \n",
                "```\n",
                "\n",
                "&nbsp;&nbsp;&nbsp;&nbsp; Y ahora si podemos ver que nuestro prompt cambio `base -> DataScience` para reflejar que estamos en el nuevo ambiente!"
            ]
        },
        {
            "cell_type": "markdown",
            "metadata": {},
            "source": [
                "---"
            ]
        },
        {
            "cell_type": "markdown",
            "metadata": {},
            "source": [
                "### 1.4 Instalación de paquetes"
            ]
        },
        {
            "cell_type": "markdown",
            "metadata": {},
            "source": [
                "&nbsp;&nbsp;&nbsp;&nbsp; Genial. Ahora tenemos un ambiente en donde podemos empezar a desarrollar nuestro proyecto y está activo.\n",
                "\n",
                "&nbsp;&nbsp;&nbsp;&nbsp; Nos dirigimos al mismo y comenzamos a desarrollar. Llegado el momento, nos damos cuenta que necesitamos una nueva dependencia, en este caso el paquete *`requests`*."
            ]
        },
        {
            "cell_type": "markdown",
            "metadata": {},
            "source": [
                "&nbsp;&nbsp;&nbsp;&nbsp; Habiendo encontrado el paquete que queremos pasaremos a instalarlo. Podemos especificar la versión deseada, el canal de instalación. Por ahora nos limitamos a instalar la última versión:\n",
                "\n",
                "```console\n",
                "(DataScience) C:\\Users\\jamr1> pip install request\n",
                "Collecting package metadata (current_repodata.json): done\n",
                "Solving environment: done\n",
                "```"
            ]
        },
        {
            "cell_type": "markdown",
            "metadata": {},
            "source": [
                "&nbsp;&nbsp;&nbsp;&nbsp; Todo muy lindo, pero ¿cómo puedo chequear que el paquete se instaló correctamente? No os preocupeis. Para eso podemos listar todos los paquetes que tengamos en el ambiente actual:\n",
                "\n",
                "```bash\n",
                "pip list\n",
                "```"
            ]
        },
        {
            "cell_type": "markdown",
            "metadata": {},
            "source": [
                "&nbsp;&nbsp;&nbsp;&nbsp; Está bueno comentar que al momento de instalar una nueva dependencia podemos especificarle, que versión queremos; ya sea fijando la versión específica que queremos o bien estableciendo pisos y techos de las versiones que queremos soportar."
            ]
        },
        {
            "cell_type": "markdown",
            "metadata": {},
            "source": [
                "&nbsp;&nbsp;&nbsp;&nbsp; Si en algún momento instalamos una dependencia que no debiamos, para probar o que simplemente no necesitamos más, el proceso para eliminarla es sencillo:\n",
                "\n",
                "```bash\n",
                "pip uninstall requests\n",
                "\n",
                "```"
            ]
        },
        {
            "cell_type": "markdown",
            "metadata": {},
            "source": [
                "---"
            ]
        },
        {
            "cell_type": "markdown",
            "metadata": {},
            "source": [
                "### 1.5 Actualización de paquetes"
            ]
        },
        {
            "cell_type": "markdown",
            "metadata": {},
            "source": [
                "&nbsp;&nbsp;&nbsp;&nbsp; El tiempo pasa y con él, el ciclo de vida de los bugs: Se eliminan 5 y se crean 17. Pero más allá de los nuevos, quienes mantienen la librería que es clave para nuestro proyecto, arreglaron el bug que nos impedía seguir, por lo que deberiamos actualizar a una nueva versión."
            ]
        },
        {
            "cell_type": "markdown",
            "metadata": {},
            "source": [
                "| <img alt=\"El que no buguea, no programa\" src=\"https://raw.githubusercontent.com/institutohumai/cursos-python/master/PracticasDeDesarrollo/2_Desarrollo_II/1_EntornosVirtuales/images/little-bugs.jpeg\" />\n",
                "|:--:|"
            ]
        },
        {
            "cell_type": "markdown",
            "metadata": {},
            "source": [
                "Para instalar una nueva versión de un nuevo paquete especifico, corremos:\n",
                "```console\n",
                "(DataScience) C:\\Users\\jamr1> pip update click   \n",
                "Collecting package metadata (current_repodata.json): done\n",
                "Solving environment: done\n",
                "```"
            ]
        },
        {
            "cell_type": "markdown",
            "metadata": {},
            "source": [
                "Y seguimos... Si en algún momento queremos actualizar todos los paquetes podemos correr `pip update --all`, pero cuidado que esto puedo desestabilizar el ambiente."
            ]
        },
        {
            "cell_type": "markdown",
            "metadata": {},
            "source": [
                "---"
            ]
        },
        {
            "cell_type": "markdown",
            "metadata": {},
            "source": [
                "### 1.7 Compartiendo ambientes"
            ]
        },
        {
            "cell_type": "markdown",
            "metadata": {},
            "source": [
                "&nbsp;&nbsp;&nbsp;&nbsp; Tenemos nuestro ambiente creado y con el proyecto corriendo en \"optimas condiciones\". Una compañera nos dice que intentó correr el proyecto pero no le funcionó con la misma data y el mismo código... Raro. ¿El contexto será el mismo?. Para asegurarnos pasemosle el ambiente entero.\n",
                "\n",
                "&nbsp;&nbsp;&nbsp;&nbsp; Para eso exportemos el ambiente a un archivo para poder pasarselo y de paso generar una versión de nuestro ambiente por si en el futuro inevitable el ambiente se vuelve inestable:\n",
                "```bash\n",
                "pip freeze > requirements.txt\n",
                "```\n",
                "ó\n",
                "\n",
                "```bash\n",
                "pipreqs .   # no mira en los archivos .ipynb\n",
                "```"
            ]
        },
        {
            "cell_type": "markdown",
            "metadata": {},
            "source": [
                "&nbsp;&nbsp;&nbsp;&nbsp; Esto nos debería haber creado un archivo llamado \"requirements.txt\" que podemos compartir para poder crear ambientes con todas las dependencias que tenemos actualmente.\n",
                "\n",
                "&nbsp;&nbsp;&nbsp;&nbsp; Enviado el archivo, lo que podemos hacer es crear un ambiente a partir de dicho archivo:\n",
                "\n",
                "```bash\n",
                "pip install -r requirements.txt\n",
                "```\n",
                "\n",
                "&nbsp;&nbsp;&nbsp;&nbsp; Y ahora ambos tienen el mismo ambiente.\n"
            ]
        },
        {
            "cell_type": "markdown",
            "metadata": {},
            "source": [
                "---"
            ]
        },
        {
            "cell_type": "markdown",
            "metadata": {},
            "source": [
                "### 1.8 Conclusiones\n",
                "\n",
                "&nbsp;&nbsp;&nbsp;&nbsp; Terminando de trabajar en un proyecto lo mejor es volver al ambiente principal. Para esto podemos:\n",
                "  * Salir de nuestro ambiente, lo que nos permitirá volver al base (o al menos al anterior): `deactivate`\n",
                "\n",
                "*Si lo que queremos es cambiar de ambientes para trabajar en otro proyecto podemos simplemente activar un ambiente desde otro. No es necesario \"pasar\" por base*."
            ]
        }
    ],
    "metadata": {
        "kernelspec": {
            "display_name": "Python 3 (ipykernel)",
            "language": "python",
            "name": "python3"
        },
        "language_info": {
            "codemirror_mode": {
                "name": "ipython",
                "version": 3
            },
            "file_extension": ".py",
            "mimetype": "text/x-python",
            "name": "python",
            "nbconvert_exporter": "python",
            "pygments_lexer": "ipython3",
            "version": "3.7.6"
        },
        "vscode": {
            "interpreter": {
                "hash": "d27203dcce1218a35e5dd056f2e1158cfdf3a468b69181284abdce2479607453"
            }
        }
    },
    "nbformat": 4,
    "nbformat_minor": 5
}
