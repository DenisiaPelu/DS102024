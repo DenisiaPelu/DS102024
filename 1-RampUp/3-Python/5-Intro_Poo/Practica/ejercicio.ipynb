{
 "cells": [
  {
   "cell_type": "markdown",
   "metadata": {},
   "source": [
    "# Ejercicios POO IV\n",
    "\n",
    "## Programación orientada a objetos\n",
    "\n",
    "En este ejercicio vamos a programar un carrito de compras.\n",
    "\n",
    "Para esto vamos a escribir dos clases: Carrito e Item.\n",
    "\n",
    "El ítem va a tener como propiedades un nombre, un precio y una url de la imágen que lo representa. Por default, la url se inicializa en blanco.\n",
    "\n",
    "El Carrito tiene como propiedad una lista de diccionarios, la variable _lineas. \n",
    "\n",
    "Los carritos se inicializan vacíos y luego se agregan líneas utilizando el método agregar_línea(). Cada línea es un diccionario con dos claves: \"ítem\" que contiene un objeto de tipo ítem y \"cantidad\" según la cantidad que queremos agregar al carrito.\n",
    "\n",
    "Por último los carritos tienen un método get_total() que devuelve la suma de los precios de los ítems, multiplicados por las cantidades que hay en cada línea."
   ]
  },
  {
   "cell_type": "code",
   "execution_count": 4,
   "metadata": {},
   "outputs": [],
   "source": [
    "# Clase Item\n",
    "class Item:\n",
    "    def __init__(self, nombre, precio, url_imagen=''):\n",
    "        self.nombre = nombre\n",
    "        self.precio = precio\n",
    "        self.url_imagen = url_imagen\n",
    "    \n",
    "\n",
    "class Carrito:\n",
    "    def __init__(self):\n",
    "        self._lineas = []\n",
    "    \n",
    "    def agregar_línea(self, item, cantidad):\n",
    "        self._lineas.append({'item': item, 'cantidad': cantidad})\n",
    "\n",
    "    def get_total(self):\n",
    "        total = 0\n",
    "        for linea in self._lineas:\n",
    "            total += linea['item'].precio * linea['cantidad']\n",
    "        return total\n",
    "\n"
   ]
  },
  {
   "cell_type": "code",
   "execution_count": 5,
   "metadata": {},
   "outputs": [],
   "source": [
    "# Crear los ítems harina de $1.50 y peperoni de $1.84\n",
    "\n",
    "item_1=Item('Harina', 1.50)\n",
    "item_2=Item('Peperoni', 1.84)"
   ]
  },
  {
   "cell_type": "markdown",
   "metadata": {},
   "source": [
    "Ahora vamos a instanciar el carrito y agregarle una \"línea\" con dos kilos de harina y otra con tres peperonis."
   ]
  },
  {
   "cell_type": "code",
   "execution_count": 6,
   "metadata": {},
   "outputs": [],
   "source": [
    "# Instancias el carrito\n",
    "carrito=Carrito()"
   ]
  },
  {
   "cell_type": "code",
   "execution_count": 7,
   "metadata": {},
   "outputs": [],
   "source": [
    "# Agregar harina\n",
    "carrito.agregar_línea(item_1, 2)\n",
    "carrito.agregar_línea(item_2, 3)"
   ]
  },
  {
   "cell_type": "code",
   "execution_count": 8,
   "metadata": {},
   "outputs": [],
   "source": [
    "# Agregar peperoni\n",
    "item_3=Item('Peperoni', 2.84)\n",
    "\n",
    "carrito.agregar_línea(item_3, 1)"
   ]
  },
  {
   "cell_type": "code",
   "execution_count": 9,
   "metadata": {},
   "outputs": [
    {
     "data": {
      "text/plain": [
       "11.36"
      ]
     },
     "execution_count": 9,
     "metadata": {},
     "output_type": "execute_result"
    }
   ],
   "source": [
    "# Obtener el total\n",
    "carrito.get_total()"
   ]
  },
  {
   "cell_type": "markdown",
   "metadata": {},
   "source": [
    "## Ejercicio II\n",
    "\n",
    "Ahora vamos a crear dos clases. Primero una clase Réctangulo con los métodos area y base. Y luego una clase más específica que sea la Clase Cuadrado que herede los métodos de la clase Rectángulo. \n",
    "\n",
    "Una vez logrado esto vamos a crear una Tercera clase llamada Cubo cuya clase base va a responder a Cuadrado. En esta clase vas a agregar un método que sea volumen utilizando el método Área de su clase base o madre. "
   ]
  },
  {
   "cell_type": "code",
   "execution_count": 2,
   "metadata": {},
   "outputs": [],
   "source": [
    "class Rectangulo:\n",
    "    def __init__(self, base, altura):\n",
    "        self.base = base\n",
    "        self.altura = altura\n",
    "    \n",
    "    def area(self):\n",
    "        return self.base * self.altura\n",
    "    \n",
    "    def base(self):\n",
    "        return self.base\n",
    "    \n",
    "class Cuadrado(Rectangulo):\n",
    "    def __init__(self, lado):\n",
    "        super().__init__(lado, lado)\n",
    "\n",
    "\n",
    "class Cubo(Cuadrado):\n",
    "    def __init__(self, lado):\n",
    "        super().__init__(lado)\n",
    "    \n",
    "    def volumen(self):\n",
    "        return self.area()* self.base\n"
   ]
  },
  {
   "cell_type": "code",
   "execution_count": 3,
   "metadata": {},
   "outputs": [
    {
     "name": "stdout",
     "output_type": "stream",
     "text": [
      "area del rectangulo: 50\n",
      "area del cuadrado: 25\n",
      "volumen del cubo: 125\n"
     ]
    }
   ],
   "source": [
    "rectangulo=Rectangulo(5, 10)\n",
    "print('area del rectangulo:', rectangulo.area())\n",
    "\n",
    "cubo=Cubo(5)\n",
    "print('area del cuadrado:', cubo.area())\n",
    "print('volumen del cubo:', cubo.volumen())"
   ]
  }
 ],
 "metadata": {
  "kernelspec": {
   "display_name": "bootcamp-ds-Hu7-MTgx-py3.11",
   "language": "python",
   "name": "python3"
  },
  "language_info": {
   "codemirror_mode": {
    "name": "ipython",
    "version": 3
   },
   "file_extension": ".py",
   "mimetype": "text/x-python",
   "name": "python",
   "nbconvert_exporter": "python",
   "pygments_lexer": "ipython3",
   "version": "3.11.9"
  }
 },
 "nbformat": 4,
 "nbformat_minor": 4
}
